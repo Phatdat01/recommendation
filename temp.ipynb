{
  "cells": [
    {
      "cell_type": "markdown",
      "metadata": {
        "id": "view-in-github",
        "colab_type": "text"
      },
      "source": [
        "<a href=\"https://colab.research.google.com/github/Phatdat01/recommendation/blob/dev/temp.ipynb\" target=\"_parent\"><img src=\"https://colab.research.google.com/assets/colab-badge.svg\" alt=\"Open In Colab\"/></a>"
      ]
    },
    {
      "cell_type": "code",
      "execution_count": 1,
      "metadata": {
        "colab": {
          "base_uri": "https://localhost:8080/"
        },
        "id": "aqgK_vkCz7PD",
        "outputId": "59beb8f5-99fb-4e61-9ff5-8bc58f0584e3"
      },
      "outputs": [
        {
          "output_type": "stream",
          "name": "stdout",
          "text": [
            "Looking in indexes: https://pypi.org/simple, https://us-python.pkg.dev/colab-wheels/public/simple/\n",
            "Collecting mlflow\n",
            "  Downloading mlflow-2.0.1-py3-none-any.whl (16.5 MB)\n",
            "\u001b[K     |████████████████████████████████| 16.5 MB 24.0 MB/s \n",
            "\u001b[?25hRequirement already satisfied: numpy<2 in /usr/local/lib/python3.8/dist-packages (from mlflow) (1.21.6)\n",
            "Collecting querystring-parser<2\n",
            "  Downloading querystring_parser-1.2.4-py2.py3-none-any.whl (7.9 kB)\n",
            "Requirement already satisfied: scikit-learn<2 in /usr/local/lib/python3.8/dist-packages (from mlflow) (1.0.2)\n",
            "Requirement already satisfied: pyarrow<11,>=4.0.0 in /usr/local/lib/python3.8/dist-packages (from mlflow) (9.0.0)\n",
            "Requirement already satisfied: scipy<2 in /usr/local/lib/python3.8/dist-packages (from mlflow) (1.7.3)\n",
            "Requirement already satisfied: pyyaml<7,>=5.1 in /usr/local/lib/python3.8/dist-packages (from mlflow) (6.0)\n",
            "Requirement already satisfied: cloudpickle<3 in /usr/local/lib/python3.8/dist-packages (from mlflow) (1.5.0)\n",
            "Collecting alembic<2\n",
            "  Downloading alembic-1.8.1-py3-none-any.whl (209 kB)\n",
            "\u001b[K     |████████████████████████████████| 209 kB 101.7 MB/s \n",
            "\u001b[?25hCollecting gunicorn<21\n",
            "  Downloading gunicorn-20.1.0-py3-none-any.whl (79 kB)\n",
            "\u001b[K     |████████████████████████████████| 79 kB 9.0 MB/s \n",
            "\u001b[?25hRequirement already satisfied: sqlalchemy<2,>=1.4.0 in /usr/local/lib/python3.8/dist-packages (from mlflow) (1.4.44)\n",
            "Requirement already satisfied: protobuf<5,>=3.12.0 in /usr/local/lib/python3.8/dist-packages (from mlflow) (3.19.6)\n",
            "Requirement already satisfied: pytz<2023 in /usr/local/lib/python3.8/dist-packages (from mlflow) (2022.6)\n",
            "Collecting gitpython<4,>=2.1.0\n",
            "  Downloading GitPython-3.1.29-py3-none-any.whl (182 kB)\n",
            "\u001b[K     |████████████████████████████████| 182 kB 96.1 MB/s \n",
            "\u001b[?25hRequirement already satisfied: Jinja2<4,>=2.11 in /usr/local/lib/python3.8/dist-packages (from mlflow) (2.11.3)\n",
            "Requirement already satisfied: pandas<2 in /usr/local/lib/python3.8/dist-packages (from mlflow) (1.3.5)\n",
            "Requirement already satisfied: click<9,>=7.0 in /usr/local/lib/python3.8/dist-packages (from mlflow) (7.1.2)\n",
            "Requirement already satisfied: packaging<22 in /usr/local/lib/python3.8/dist-packages (from mlflow) (21.3)\n",
            "Requirement already satisfied: sqlparse<1,>=0.4.0 in /usr/local/lib/python3.8/dist-packages (from mlflow) (0.4.3)\n",
            "Collecting shap<1,>=0.40\n",
            "  Downloading shap-0.41.0-cp38-cp38-manylinux_2_12_x86_64.manylinux2010_x86_64.whl (575 kB)\n",
            "\u001b[K     |████████████████████████████████| 575 kB 111.1 MB/s \n",
            "\u001b[?25hRequirement already satisfied: markdown<4,>=3.3 in /usr/local/lib/python3.8/dist-packages (from mlflow) (3.4.1)\n",
            "Requirement already satisfied: matplotlib<4 in /usr/local/lib/python3.8/dist-packages (from mlflow) (3.2.2)\n",
            "Requirement already satisfied: importlib-metadata!=4.7.0,<6,>=3.7.0 in /usr/local/lib/python3.8/dist-packages (from mlflow) (4.13.0)\n",
            "Collecting docker<7,>=4.0.0\n",
            "  Downloading docker-6.0.1-py3-none-any.whl (147 kB)\n",
            "\u001b[K     |████████████████████████████████| 147 kB 84.9 MB/s \n",
            "\u001b[?25hRequirement already satisfied: Flask<3 in /usr/local/lib/python3.8/dist-packages (from mlflow) (1.1.4)\n",
            "Requirement already satisfied: requests<3,>=2.17.3 in /usr/local/lib/python3.8/dist-packages (from mlflow) (2.23.0)\n",
            "Requirement already satisfied: entrypoints<1 in /usr/local/lib/python3.8/dist-packages (from mlflow) (0.4)\n",
            "Collecting databricks-cli<1,>=0.8.7\n",
            "  Downloading databricks-cli-0.17.4.tar.gz (82 kB)\n",
            "\u001b[K     |████████████████████████████████| 82 kB 573 kB/s \n",
            "\u001b[?25hRequirement already satisfied: importlib-resources in /usr/local/lib/python3.8/dist-packages (from alembic<2->mlflow) (5.10.0)\n",
            "Collecting Mako\n",
            "  Downloading Mako-1.2.4-py3-none-any.whl (78 kB)\n",
            "\u001b[K     |████████████████████████████████| 78 kB 8.9 MB/s \n",
            "\u001b[?25hCollecting pyjwt>=1.7.0\n",
            "  Downloading PyJWT-2.6.0-py3-none-any.whl (20 kB)\n",
            "Requirement already satisfied: oauthlib>=3.1.0 in /usr/local/lib/python3.8/dist-packages (from databricks-cli<1,>=0.8.7->mlflow) (3.2.2)\n",
            "Requirement already satisfied: tabulate>=0.7.7 in /usr/local/lib/python3.8/dist-packages (from databricks-cli<1,>=0.8.7->mlflow) (0.8.10)\n",
            "Requirement already satisfied: six>=1.10.0 in /usr/local/lib/python3.8/dist-packages (from databricks-cli<1,>=0.8.7->mlflow) (1.15.0)\n",
            "Collecting urllib3>=1.26.0\n",
            "  Downloading urllib3-1.26.13-py2.py3-none-any.whl (140 kB)\n",
            "\u001b[K     |████████████████████████████████| 140 kB 103.7 MB/s \n",
            "\u001b[?25hCollecting websocket-client>=0.32.0\n",
            "  Downloading websocket_client-1.4.2-py3-none-any.whl (55 kB)\n",
            "\u001b[K     |████████████████████████████████| 55 kB 4.6 MB/s \n",
            "\u001b[?25hCollecting requests<3,>=2.17.3\n",
            "  Downloading requests-2.28.1-py3-none-any.whl (62 kB)\n",
            "\u001b[K     |████████████████████████████████| 62 kB 1.9 MB/s \n",
            "\u001b[?25hRequirement already satisfied: Werkzeug<2.0,>=0.15 in /usr/local/lib/python3.8/dist-packages (from Flask<3->mlflow) (1.0.1)\n",
            "Requirement already satisfied: itsdangerous<2.0,>=0.24 in /usr/local/lib/python3.8/dist-packages (from Flask<3->mlflow) (1.1.0)\n",
            "Collecting gitdb<5,>=4.0.1\n",
            "  Downloading gitdb-4.0.10-py3-none-any.whl (62 kB)\n",
            "\u001b[K     |████████████████████████████████| 62 kB 1.7 MB/s \n",
            "\u001b[?25hCollecting smmap<6,>=3.0.1\n",
            "  Downloading smmap-5.0.0-py3-none-any.whl (24 kB)\n",
            "Requirement already satisfied: setuptools>=3.0 in /usr/local/lib/python3.8/dist-packages (from gunicorn<21->mlflow) (57.4.0)\n",
            "Requirement already satisfied: zipp>=0.5 in /usr/local/lib/python3.8/dist-packages (from importlib-metadata!=4.7.0,<6,>=3.7.0->mlflow) (3.11.0)\n",
            "Requirement already satisfied: MarkupSafe>=0.23 in /usr/local/lib/python3.8/dist-packages (from Jinja2<4,>=2.11->mlflow) (2.0.1)\n",
            "Requirement already satisfied: kiwisolver>=1.0.1 in /usr/local/lib/python3.8/dist-packages (from matplotlib<4->mlflow) (1.4.4)\n",
            "Requirement already satisfied: cycler>=0.10 in /usr/local/lib/python3.8/dist-packages (from matplotlib<4->mlflow) (0.11.0)\n",
            "Requirement already satisfied: pyparsing!=2.0.4,!=2.1.2,!=2.1.6,>=2.0.1 in /usr/local/lib/python3.8/dist-packages (from matplotlib<4->mlflow) (3.0.9)\n",
            "Requirement already satisfied: python-dateutil>=2.1 in /usr/local/lib/python3.8/dist-packages (from matplotlib<4->mlflow) (2.8.2)\n",
            "Requirement already satisfied: idna<4,>=2.5 in /usr/local/lib/python3.8/dist-packages (from requests<3,>=2.17.3->mlflow) (2.10)\n",
            "Requirement already satisfied: charset-normalizer<3,>=2 in /usr/local/lib/python3.8/dist-packages (from requests<3,>=2.17.3->mlflow) (2.1.1)\n",
            "Requirement already satisfied: certifi>=2017.4.17 in /usr/local/lib/python3.8/dist-packages (from requests<3,>=2.17.3->mlflow) (2022.9.24)\n",
            "Requirement already satisfied: threadpoolctl>=2.0.0 in /usr/local/lib/python3.8/dist-packages (from scikit-learn<2->mlflow) (3.1.0)\n",
            "Requirement already satisfied: joblib>=0.11 in /usr/local/lib/python3.8/dist-packages (from scikit-learn<2->mlflow) (1.2.0)\n",
            "Requirement already satisfied: numba in /usr/local/lib/python3.8/dist-packages (from shap<1,>=0.40->mlflow) (0.56.4)\n",
            "Collecting slicer==0.0.7\n",
            "  Downloading slicer-0.0.7-py3-none-any.whl (14 kB)\n",
            "Requirement already satisfied: tqdm>4.25.0 in /usr/local/lib/python3.8/dist-packages (from shap<1,>=0.40->mlflow) (4.64.1)\n",
            "Requirement already satisfied: greenlet!=0.4.17 in /usr/local/lib/python3.8/dist-packages (from sqlalchemy<2,>=1.4.0->mlflow) (2.0.1)\n",
            "Requirement already satisfied: llvmlite<0.40,>=0.39.0dev0 in /usr/local/lib/python3.8/dist-packages (from numba->shap<1,>=0.40->mlflow) (0.39.1)\n",
            "Building wheels for collected packages: databricks-cli\n",
            "  Building wheel for databricks-cli (setup.py) ... \u001b[?25l\u001b[?25hdone\n",
            "  Created wheel for databricks-cli: filename=databricks_cli-0.17.4-py3-none-any.whl size=142894 sha256=5ef0dcc32ed5eb26a606075ae883df57d3dad1f8061551fbebb64a693fc4db7b\n",
            "  Stored in directory: /root/.cache/pip/wheels/48/7c/6e/4bf2c1748c7ecf994ca951591de81674ed6bf633e1e337d873\n",
            "Successfully built databricks-cli\n",
            "Installing collected packages: urllib3, smmap, websocket-client, slicer, requests, pyjwt, Mako, gitdb, shap, querystring-parser, gunicorn, gitpython, docker, databricks-cli, alembic, mlflow\n",
            "  Attempting uninstall: urllib3\n",
            "    Found existing installation: urllib3 1.24.3\n",
            "    Uninstalling urllib3-1.24.3:\n",
            "      Successfully uninstalled urllib3-1.24.3\n",
            "  Attempting uninstall: requests\n",
            "    Found existing installation: requests 2.23.0\n",
            "    Uninstalling requests-2.23.0:\n",
            "      Successfully uninstalled requests-2.23.0\n",
            "Successfully installed Mako-1.2.4 alembic-1.8.1 databricks-cli-0.17.4 docker-6.0.1 gitdb-4.0.10 gitpython-3.1.29 gunicorn-20.1.0 mlflow-2.0.1 pyjwt-2.6.0 querystring-parser-1.2.4 requests-2.28.1 shap-0.41.0 slicer-0.0.7 smmap-5.0.0 urllib3-1.26.13 websocket-client-1.4.2\n",
            "Looking in indexes: https://pypi.org/simple, https://us-python.pkg.dev/colab-wheels/public/simple/\n",
            "Requirement already satisfied: gdown in /usr/local/lib/python3.8/dist-packages (4.4.0)\n",
            "Requirement already satisfied: requests[socks] in /usr/local/lib/python3.8/dist-packages (from gdown) (2.28.1)\n",
            "Requirement already satisfied: beautifulsoup4 in /usr/local/lib/python3.8/dist-packages (from gdown) (4.6.3)\n",
            "Requirement already satisfied: six in /usr/local/lib/python3.8/dist-packages (from gdown) (1.15.0)\n",
            "Requirement already satisfied: tqdm in /usr/local/lib/python3.8/dist-packages (from gdown) (4.64.1)\n",
            "Requirement already satisfied: filelock in /usr/local/lib/python3.8/dist-packages (from gdown) (3.8.0)\n",
            "Requirement already satisfied: charset-normalizer<3,>=2 in /usr/local/lib/python3.8/dist-packages (from requests[socks]->gdown) (2.1.1)\n",
            "Requirement already satisfied: certifi>=2017.4.17 in /usr/local/lib/python3.8/dist-packages (from requests[socks]->gdown) (2022.9.24)\n",
            "Requirement already satisfied: urllib3<1.27,>=1.21.1 in /usr/local/lib/python3.8/dist-packages (from requests[socks]->gdown) (1.26.13)\n",
            "Requirement already satisfied: idna<4,>=2.5 in /usr/local/lib/python3.8/dist-packages (from requests[socks]->gdown) (2.10)\n",
            "Requirement already satisfied: PySocks!=1.5.7,>=1.5.6 in /usr/local/lib/python3.8/dist-packages (from requests[socks]->gdown) (1.7.1)\n",
            "Looking in indexes: https://pypi.org/simple, https://us-python.pkg.dev/colab-wheels/public/simple/\n",
            "Collecting pyspark\n",
            "  Downloading pyspark-3.3.1.tar.gz (281.4 MB)\n",
            "\u001b[K     |████████████████████████████████| 281.4 MB 50 kB/s \n",
            "\u001b[?25hCollecting py4j==0.10.9.5\n",
            "  Downloading py4j-0.10.9.5-py2.py3-none-any.whl (199 kB)\n",
            "\u001b[K     |████████████████████████████████| 199 kB 102.5 MB/s \n",
            "\u001b[?25hBuilding wheels for collected packages: pyspark\n",
            "  Building wheel for pyspark (setup.py) ... \u001b[?25l\u001b[?25hdone\n",
            "  Created wheel for pyspark: filename=pyspark-3.3.1-py2.py3-none-any.whl size=281845512 sha256=ff12258d99c437c5581a928bc044f687581785fccc933931816787ae08e9fafb\n",
            "  Stored in directory: /root/.cache/pip/wheels/43/dc/11/ec201cd671da62fa9c5cc77078235e40722170ceba231d7598\n",
            "Successfully built pyspark\n",
            "Installing collected packages: py4j, pyspark\n",
            "Successfully installed py4j-0.10.9.5 pyspark-3.3.1\n",
            "Access denied with the following error:\n",
            "\n",
            " \tCannot retrieve the public link of the file. You may need to change\n",
            "\tthe permission to 'Anyone with the link', or have had many accesses. \n",
            "\n",
            "You may still be able to access the file from the browser:\n",
            "\n",
            "\t https://drive.google.com/uc?id=1ZrayeVD2iZgfgB3sIt-L9LEn4zNFGgiu \n",
            "\n"
          ]
        }
      ],
      "source": [
        "!pip install mlflow\n",
        "!pip install gdown\n",
        "!pip install pyspark\n",
        "!gdown 1ZrayeVD2iZgfgB3sIt-L9LEn4zNFGgiu"
      ]
    },
    {
      "cell_type": "code",
      "execution_count": 2,
      "metadata": {
        "colab": {
          "base_uri": "https://localhost:8080/"
        },
        "id": "eoYyu-1F0IR2",
        "outputId": "95cb5f1e-8808-4e76-ba52-d1e1060da033"
      },
      "outputs": [
        {
          "output_type": "stream",
          "name": "stdout",
          "text": [
            "Looking in indexes: https://pypi.org/simple, https://us-python.pkg.dev/colab-wheels/public/simple/\n",
            "Requirement already satisfied: gdown in /usr/local/lib/python3.8/dist-packages (4.4.0)\n",
            "Collecting gdown\n",
            "  Downloading gdown-4.6.0-py3-none-any.whl (14 kB)\n",
            "Requirement already satisfied: tqdm in /usr/local/lib/python3.8/dist-packages (from gdown) (4.64.1)\n",
            "Requirement already satisfied: filelock in /usr/local/lib/python3.8/dist-packages (from gdown) (3.8.0)\n",
            "Requirement already satisfied: requests[socks] in /usr/local/lib/python3.8/dist-packages (from gdown) (2.28.1)\n",
            "Requirement already satisfied: six in /usr/local/lib/python3.8/dist-packages (from gdown) (1.15.0)\n",
            "Requirement already satisfied: beautifulsoup4 in /usr/local/lib/python3.8/dist-packages (from gdown) (4.6.3)\n",
            "Requirement already satisfied: idna<4,>=2.5 in /usr/local/lib/python3.8/dist-packages (from requests[socks]->gdown) (2.10)\n",
            "Requirement already satisfied: charset-normalizer<3,>=2 in /usr/local/lib/python3.8/dist-packages (from requests[socks]->gdown) (2.1.1)\n",
            "Requirement already satisfied: certifi>=2017.4.17 in /usr/local/lib/python3.8/dist-packages (from requests[socks]->gdown) (2022.9.24)\n",
            "Requirement already satisfied: urllib3<1.27,>=1.21.1 in /usr/local/lib/python3.8/dist-packages (from requests[socks]->gdown) (1.26.13)\n",
            "Requirement already satisfied: PySocks!=1.5.7,>=1.5.6 in /usr/local/lib/python3.8/dist-packages (from requests[socks]->gdown) (1.7.1)\n",
            "Installing collected packages: gdown\n",
            "  Attempting uninstall: gdown\n",
            "    Found existing installation: gdown 4.4.0\n",
            "    Uninstalling gdown-4.4.0:\n",
            "      Successfully uninstalled gdown-4.4.0\n",
            "Successfully installed gdown-4.6.0\n",
            "Downloading...\n",
            "From: https://drive.google.com/uc?id=10xqEKqtA04JSKU2rF0XZQP9X34ovtgoY&confirm=t\n",
            "To: /content/yelp_dataset.tar\n",
            "100% 4.34G/4.34G [00:54<00:00, 79.2MB/s]\n"
          ]
        }
      ],
      "source": [
        "!pip install --upgrade --no-cache-dir gdown\n",
        "!python -m gdown.cli \"https://drive.google.com/uc?id=10xqEKqtA04JSKU2rF0XZQP9X34ovtgoY&confirm=t\"\n",
        "\n",
        "# !python -m gdown.cli \"https://drive.google.com/uc?id=1ZrayeVD2iZgfgB3sIt-L9LEn4zNFGgiu&confirm=t\""
      ]
    },
    {
      "cell_type": "code",
      "execution_count": 3,
      "metadata": {
        "id": "pQjEN5ny0JBh"
      },
      "outputs": [],
      "source": [
        "import os\n",
        "from pyspark.sql import SparkSession\n",
        "from pyspark.sql.functions import *\n",
        "from pyspark.sql.types import *\n",
        "from pyspark.ml.evaluation import RegressionEvaluator\n",
        "from pyspark.ml.recommendation import ALS\n",
        "from pyspark.ml.recommendation import ALSModel\n",
        "from pyspark.sql import Row\n",
        "import numpy as np\n",
        "from datetime import datetime\n",
        "import tarfile\n",
        "import matplotlib.pyplot as plt\n",
        "import pandas as pd\n",
        "from pyspark.sql import Window\n",
        "from pyspark.sql.window import *"
      ]
    },
    {
      "cell_type": "code",
      "execution_count": 6,
      "metadata": {
        "colab": {
          "base_uri": "https://localhost:8080/"
        },
        "id": "O7XliYOR0dqt",
        "outputId": "15077229-2bb5-4ff6-b7a4-9b09ff639e29"
      },
      "outputs": [
        {
          "output_type": "stream",
          "name": "stdout",
          "text": [
            "/content\n"
          ]
        }
      ],
      "source": [
        "# %cd /content\n",
        "# # !mkdir yelp_dataset\n",
        "# my_tar = tarfile.open('/content/yelp_dataset.tar')\n",
        "# my_tar.extract('yelp_academic_dataset_review.json',\".\")\n",
        "# my_tar.close()\n",
        "# !rm /content/yelp_dataset.tar"
      ]
    },
    {
      "cell_type": "code",
      "execution_count": 4,
      "metadata": {
        "id": "p_QZmSnA0fjo"
      },
      "outputs": [],
      "source": [
        "spark = SparkSession.builder\\\n",
        "        .master(\"local\")\\\n",
        "        .appName(\"Colab\")\\\n",
        "        .config('spark.ui.port', '5000')\\\n",
        "        .getOrCreate()"
      ]
    },
    {
      "cell_type": "code",
      "execution_count": 11,
      "metadata": {
        "colab": {
          "base_uri": "https://localhost:8080/"
        },
        "id": "di1XtkKQ0uZA",
        "outputId": "88080d97-01c2-46de-c131-c3e1cbb8fae1"
      },
      "outputs": [
        {
          "output_type": "stream",
          "name": "stdout",
          "text": [
            "root\n",
            " |-- business_id: string (nullable = true)\n",
            " |-- cool: long (nullable = true)\n",
            " |-- date: string (nullable = true)\n",
            " |-- funny: long (nullable = true)\n",
            " |-- review_id: string (nullable = true)\n",
            " |-- stars: double (nullable = true)\n",
            " |-- text: string (nullable = true)\n",
            " |-- useful: long (nullable = true)\n",
            " |-- user_id: string (nullable = true)\n",
            "\n",
            "+--------------------+----+-------------------+-----+--------------------+-----+--------------------+------+--------------------+\n",
            "|         business_id|cool|               date|funny|           review_id|stars|                text|useful|             user_id|\n",
            "+--------------------+----+-------------------+-----+--------------------+-----+--------------------+------+--------------------+\n",
            "|XQfwVwDr-v0ZS3_Cb...|   0|2018-07-07 22:09:11|    0|KU_O5udG6zpxOg-Vc...|  3.0|If you decide to ...|     0|mh_-eMZ6K5RLWhZyI...|\n",
            "|7ATYjTIgM3jUlt4UM...|   1|2012-01-03 15:28:18|    0|BiTunyQ73aT9WBnpR...|  5.0|I've taken a lot ...|     1|OyoGAe7OKpv6SyGZT...|\n",
            "|YjUWPpI6HXG530lwP...|   0|2014-02-05 20:30:30|    0|saUsX_uimxRlCVr67...|  3.0|Family diner. Had...|     0|8g_iMtfSiwikVnbP2...|\n",
            "|kxX2SOes4o-D3ZQBk...|   1|2015-01-04 00:01:03|    0|AqPFMleE6RsU23_au...|  5.0|Wow!  Yummy, diff...|     1|_7bHUi9Uuf5__HHc_...|\n",
            "|e4Vwtrqf-wpJfwesg...|   1|2017-01-14 20:54:15|    0|Sx8TMOWLNuJBWer-0...|  4.0|Cute interior and...|     1|bcjbaE6dDog4jkNY9...|\n",
            "+--------------------+----+-------------------+-----+--------------------+-----+--------------------+------+--------------------+\n",
            "only showing top 5 rows\n",
            "\n"
          ]
        }
      ],
      "source": [
        "df = spark.read.json(\"/content/yelp_academic_dataset_review.json\")\n",
        "df.printSchema()\n",
        "df.show(5)"
      ]
    },
    {
      "cell_type": "code",
      "execution_count": 12,
      "metadata": {
        "id": "xd95TUH30vyL"
      },
      "outputs": [],
      "source": [
        "ratings=df.select(\"user_id\",\"business_id\",\"stars\",\"date\",\"cool\",\"funny\",\"useful\")"
      ]
    },
    {
      "cell_type": "code",
      "execution_count": 13,
      "metadata": {
        "colab": {
          "base_uri": "https://localhost:8080/"
        },
        "id": "bUU_I8mh0w3N",
        "outputId": "817b7847-36ef-411f-e7f4-7e6c9d402b38"
      },
      "outputs": [
        {
          "output_type": "stream",
          "name": "stdout",
          "text": [
            "+--------------------+-----+------+\n",
            "|             user_id|count|userid|\n",
            "+--------------------+-----+------+\n",
            "|---1lKK3aKOuomHnw...|    1|     1|\n",
            "|---2PmXbF47D870st...|   28|     2|\n",
            "|---UgP94gokyCDuB5...|   11|     3|\n",
            "|---fa6ZK37T9NjkGK...|    1|     4|\n",
            "|---r61b7EpVPkb4UV...|    5|     5|\n",
            "+--------------------+-----+------+\n",
            "only showing top 5 rows\n",
            "\n"
          ]
        }
      ],
      "source": [
        "userRatings=ratings.groupBy(\"user_id\").count()\n",
        "## take id type int\n",
        "window = Window.orderBy(col('user_id'))\n",
        "userRatings = userRatings.withColumn('userid', row_number().over(window))\n",
        "\n",
        "##Because ALS in spark require users or items is  in int type, we must process it\n",
        "\n",
        "## if you use this, for the large data, it processes wrong\n",
        "# userRatings=ratings.groupBy(\"user_id\").count().withColumn(\"userid\", monotonically_increasing_id().cast(IntegerType()))\n",
        "userRatings.show(5)"
      ]
    },
    {
      "cell_type": "code",
      "execution_count": 14,
      "metadata": {
        "id": "xY0Tts7C0zTv"
      },
      "outputs": [],
      "source": [
        "buiRatings=ratings.groupBy(\"business_id\").count()\n",
        "## take id type int\n",
        "window = Window.orderBy(col('business_id'))\n",
        "buiRatings = buiRatings.withColumn('businessid', row_number().over(window))\n",
        "\n",
        "# buiRatings=ratings.groupBy(\"business_id\").count().withColumn(\"businessid\", monotonically_increasing_id().cast(IntegerType()))\n",
        "newratings=ratings.join(userRatings, ['user_id'])\n",
        "newratings=newratings.join(buiRatings, ['business_id'])\n",
        "newratings=newratings.select(\"userid\",\"businessid\",\"stars\",\"date\")"
      ]
    },
    {
      "cell_type": "code",
      "execution_count": 15,
      "metadata": {
        "colab": {
          "base_uri": "https://localhost:8080/"
        },
        "id": "18U5BmfF01zi",
        "outputId": "85676496-694d-4164-d160-a78afc387e14"
      },
      "outputs": [
        {
          "output_type": "stream",
          "name": "stdout",
          "text": [
            "DataFrame[userid: int, businessid: int, stars: int, date: timestamp]\n",
            "+------+----------+-----+-------------------+\n",
            "|userid|businessid|stars|               date|\n",
            "+------+----------+-----+-------------------+\n",
            "|    20|     40541|    1|2015-05-03 03:53:01|\n",
            "|    20|     76452|    5|2015-05-21 03:18:49|\n",
            "|    26|      4489|    4|2020-10-29 23:34:47|\n",
            "|    36|    105552|    5|2019-04-18 05:17:58|\n",
            "|    36|     29020|    2|2017-02-03 06:14:50|\n",
            "+------+----------+-----+-------------------+\n",
            "only showing top 5 rows\n",
            "\n"
          ]
        }
      ],
      "source": [
        "newratings=newratings.withColumn(\"stars\",col(\"stars\").cast(IntegerType()))\n",
        "newratings=newratings.withColumn(\"date\",to_timestamp(\"date\"))\n",
        "\n",
        "print(newratings)\n",
        "newratings.show(5)"
      ]
    },
    {
      "cell_type": "markdown",
      "source": [
        "# New"
      ],
      "metadata": {
        "id": "zwlwVCK7iAoU"
      }
    },
    {
      "cell_type": "code",
      "source": [
        "num=int(newratings.count()*0.3)\n",
        "ortherDate=newratings.orderBy(col(\"date\").desc())\n",
        "test=ortherDate.limit(int(num))\n",
        "train=ortherDate.subtract(test)"
      ],
      "metadata": {
        "id": "BFglE-zHiAIz"
      },
      "execution_count": null,
      "outputs": []
    },
    {
      "cell_type": "code",
      "execution_count": null,
      "metadata": {
        "colab": {
          "base_uri": "https://localhost:8080/"
        },
        "id": "IK_PDFQhce3z",
        "outputId": "64ed18af-d10b-401e-d92c-0cb18db13329"
      },
      "outputs": [
        {
          "name": "stdout",
          "output_type": "stream",
          "text": [
            "+-------+----------+-----+-------------------+\n",
            "| userid|businessid|stars|               date|\n",
            "+-------+----------+-----+-------------------+\n",
            "|1832830|     31615|    1|2019-01-06 03:47:03|\n",
            "|1042942|     86890|    4|2019-01-06 03:47:07|\n",
            "|1781463|     79615|    5|2019-01-06 03:47:19|\n",
            "|1213934|     58044|    1|2019-01-06 03:47:33|\n",
            "| 348358|     17893|    1|2019-01-06 03:47:45|\n",
            "| 842914|     57367|    1|2019-01-06 03:48:04|\n",
            "|1325386|     80502|    1|2019-01-06 03:48:57|\n",
            "|1310940|     67071|    5|2019-01-06 03:49:10|\n",
            "|1597092|     79182|    2|2019-01-06 03:51:07|\n",
            "| 834344|     94428|    5|2019-01-06 03:51:50|\n",
            "+-------+----------+-----+-------------------+\n",
            "only showing top 10 rows\n",
            "\n",
            "+-------+----------+-----+-------------------+\n",
            "| userid|businessid|stars|               date|\n",
            "+-------+----------+-----+-------------------+\n",
            "|1369796|     79423|    4|2019-01-06 03:46:45|\n",
            "|1583891|    131428|    5|2019-01-06 03:45:40|\n",
            "|1406586|     42322|    4|2019-01-06 03:45:18|\n",
            "| 520738|    123025|    2|2019-01-06 03:45:12|\n",
            "| 297437|     81400|    4|2019-01-06 03:45:06|\n",
            "|1749327|     32141|    2|2019-01-06 03:44:34|\n",
            "|1056642|    116797|    5|2019-01-06 03:44:33|\n",
            "| 783041|     70648|    2|2019-01-06 03:44:23|\n",
            "|1875848|     25062|    5|2019-01-06 03:44:02|\n",
            "|1572351|     54978|    2|2019-01-06 03:43:42|\n",
            "+-------+----------+-----+-------------------+\n",
            "only showing top 10 rows\n",
            "\n"
          ]
        }
      ],
      "source": [
        "test.orderBy(col(\"date\").asc()).show(10)\n",
        "train.orderBy(col(\"date\").desc()).show(10)"
      ]
    },
    {
      "cell_type": "code",
      "execution_count": null,
      "metadata": {
        "id": "NEVRUSeK1MtQ"
      },
      "outputs": [],
      "source": [
        "userTrain=train.groupBy('userid').count().select('userid')\n",
        "## remove same id \n",
        "duplicate=test.join(userTrain,['userid'])\n",
        "new=test.subtract(duplicate)"
      ]
    },
    {
      "cell_type": "code",
      "execution_count": null,
      "metadata": {
        "id": "q6CNATRF1Xv-"
      },
      "outputs": [],
      "source": [
        "# def SplitTest(source,data):\n",
        "#     train,test=data.randomSplit([0.3,0.7])\n",
        "#     try:\n",
        "#         return source.union(train)\n",
        "#     except:\n",
        "#         return train"
      ]
    },
    {
      "cell_type": "code",
      "execution_count": null,
      "metadata": {
        "id": "4nOwLh9k1bzt"
      },
      "outputs": [],
      "source": [
        "# ## Keep data test with keep\n",
        "# newTrain = None\n",
        "# userNew=new.groupBy('userid').count().select('userid')\n",
        "# lstuserNew=userNew.rdd.flatMap(lambda x: x).collect()\n",
        "\n",
        "# for i in lstuserNew:\n",
        "#     userI=new.filter(col('userid')==i)\n",
        "#     newTrain=SplitTest(newTrain,userI)\n",
        "    "
      ]
    },
    {
      "cell_type": "code",
      "execution_count": null,
      "metadata": {
        "colab": {
          "base_uri": "https://localhost:8080/"
        },
        "id": "uU4OARY82nM1",
        "outputId": "b41fb50f-890a-489f-90d9-5fb5dbf1dbb5"
      },
      "outputs": [
        {
          "name": "stdout",
          "output_type": "stream",
          "text": [
            "535272\n"
          ]
        }
      ],
      "source": [
        "## remove test data to union to train and for test\n",
        "newTrain,_=new.randomSplit([0.5,0.5])\n",
        "numNewTrain=newTrain.count()\n",
        "print(numNewTrain)\n",
        "descDate=train.orderBy(col(\"date\").desc())\n",
        "forTest=descDate.limit(numNewTrain)\n",
        "\n",
        "newtrain=train.subtract(forTest).union(newTrain)\n",
        "newTest=test.subtract(newTrain).union(forTest)"
      ]
    },
    {
      "cell_type": "code",
      "execution_count": null,
      "metadata": {
        "colab": {
          "background_save": true,
          "base_uri": "https://localhost:8080/"
        },
        "id": "CLameP7G1euy",
        "outputId": "e5f69b71-736b-4d44-8225-f3dc9dac30ce"
      },
      "outputs": [
        {
          "name": "stdout",
          "output_type": "stream",
          "text": [
            "+------+----------+-----+-------------------+\n",
            "|userid|businessid|stars|               date|\n",
            "+------+----------+-----+-------------------+\n",
            "|   154|     52768|    3|2021-12-02 03:52:28|\n",
            "|   192|     13759|    4|2022-01-16 16:37:34|\n",
            "|   669|     35238|    1|2021-12-23 02:40:10|\n",
            "|   828|     20133|    4|2019-03-16 00:27:45|\n",
            "|  2496|     67586|    1|2020-11-09 14:16:18|\n",
            "|  2688|     64745|    5|2021-02-28 03:00:23|\n",
            "|  2803|    107602|    5|2019-09-02 22:54:48|\n",
            "|  2816|     11831|    4|2019-08-06 04:33:08|\n",
            "|  3275|       659|    5|2019-08-27 20:06:01|\n",
            "|  3505|     83614|    5|2019-04-10 03:15:51|\n",
            "|  3706|     81675|    5|2021-07-17 21:51:21|\n",
            "|  3767|     59864|    1|2019-05-20 03:36:53|\n",
            "|  4053|    108136|    1|2021-11-11 18:20:22|\n",
            "|  4072|    120113|    5|2020-11-25 08:15:11|\n",
            "|  4127|     35692|    1|2020-08-26 19:06:27|\n",
            "|  4866|     32504|    5|2019-02-02 02:37:18|\n",
            "|  5198|     61557|    5|2019-04-03 23:34:15|\n",
            "|  5857|    130940|    5|2021-08-22 23:15:07|\n",
            "|  6237|     62947|    1|2020-01-04 16:45:02|\n",
            "|  6559|     56514|    5|2021-12-01 02:00:41|\n",
            "+------+----------+-----+-------------------+\n",
            "only showing top 20 rows\n",
            "\n"
          ]
        }
      ],
      "source": [
        "newTest.show(20)"
      ]
    },
    {
      "cell_type": "code",
      "execution_count": null,
      "metadata": {
        "colab": {
          "background_save": true,
          "base_uri": "https://localhost:8080/"
        },
        "id": "ECZYqWTZ1i9D",
        "outputId": "92de7494-6d0a-4e04-f25b-d6f36427d6ad"
      },
      "outputs": [
        {
          "name": "stdout",
          "output_type": "stream",
          "text": [
            "num newtest: DataFrame[userid: int, businessid: int, stars: int, date: timestamp]\n",
            "num val: DataFrame[userid: int, businessid: int, stars: int, date: timestamp]\n",
            "num tes: DataFrame[userid: int, businessid: int, stars: int, date: timestamp]\n"
          ]
        }
      ],
      "source": [
        "val,tes=newTest.randomSplit([2/3,1/3])\n",
        "print(f\"num newtest: {newTest}\")\n",
        "print(f\"num val: {val}\")\n",
        "print(f\"num tes: {tes}\")"
      ]
    },
    {
      "cell_type": "code",
      "execution_count": null,
      "metadata": {
        "id": "nb5GRf2S1jv8"
      },
      "outputs": [],
      "source": [
        "als= ALS(rank=4, maxIter=4, regParam=0.35, userCol=\"userid\", itemCol=\"businessid\", ratingCol=\"stars\", nonnegative=True,implicitPrefs = False,coldStartStrategy=\"drop\")\n",
        "model = als.fit(newtrain)\n",
        "predictions=model.transform(newtrain)\n",
        "evaluator = RegressionEvaluator(metricName=\"rmse\", labelCol=\"stars\", predictionCol=\"prediction\")\n",
        "rmse = evaluator.evaluate(predictions)\n",
        "print(f\"training RMSE={rmse}\")\n",
        "\n",
        "predictions=model.transform(val)\n",
        "evaluator = RegressionEvaluator(metricName=\"rmse\", labelCol=\"stars\", predictionCol=\"prediction\")\n",
        "rmse = evaluator.evaluate(predictions)\n",
        "print(f\"validate RMSE={rmse}\")"
      ]
    },
    {
      "cell_type": "code",
      "execution_count": null,
      "metadata": {
        "colab": {
          "base_uri": "https://localhost:8080/"
        },
        "id": "69Jv5X7J1ldg",
        "outputId": "23cd2854-6330-412f-c28a-4e7ac758a9cb"
      },
      "outputs": [
        {
          "name": "stdout",
          "output_type": "stream",
          "text": [
            "validate RMSE=1.5808870760015483\n"
          ]
        }
      ],
      "source": [
        "predictions=model.transform(tes)\n",
        "evaluator = RegressionEvaluator(metricName=\"rmse\", labelCol=\"stars\", predictionCol=\"prediction\")\n",
        "rmse = evaluator.evaluate(predictions)\n",
        "print(f\"validate RMSE={rmse}\")"
      ]
    },
    {
      "cell_type": "code",
      "execution_count": null,
      "metadata": {
        "id": "VI6dCsOPRDpE"
      },
      "outputs": [],
      "source": []
    },
    {
      "cell_type": "markdown",
      "source": [
        "# Choose"
      ],
      "metadata": {
        "id": "SLKYqQlMiE30"
      }
    },
    {
      "cell_type": "code",
      "source": [
        "from google.colab import drive\n",
        "drive.mount('/content/drive')"
      ],
      "metadata": {
        "colab": {
          "base_uri": "https://localhost:8080/"
        },
        "id": "B_jpKtdeiDnG",
        "outputId": "f33043fc-1ac7-4583-a405-e82ca22f9127"
      },
      "execution_count": 7,
      "outputs": [
        {
          "output_type": "stream",
          "name": "stdout",
          "text": [
            "Mounted at /content/drive\n"
          ]
        }
      ]
    },
    {
      "cell_type": "code",
      "source": [
        "def trainModel(train,test,rank,iter,reg):\n",
        "  als= ALS(rank=rank, maxIter=iter, regParam=reg, userCol=\"userid\", itemCol=\"businessid\", ratingCol=\"stars\", nonnegative=True,implicitPrefs = False,coldStartStrategy=\"drop\")\n",
        "  model = als.fit(train)\n",
        "  predictions=model.transform(test)\n",
        "  evaluator = RegressionEvaluator(metricName=\"rmse\", labelCol=\"stars\", predictionCol=\"prediction\")\n",
        "  rmse = evaluator.evaluate(predictions)\n",
        "  print(f\"rank: {rank},iter: {iter},reg: {reg}, RMSE={rmse}\")\n",
        "  return predictions,rmse\n",
        "\n",
        "def SaveRow(rank,iter,reg,rmse):\n",
        "  f=open(\"/content/drive/MyDrive/TLCN-19133035-19133018/score2.txt\", \"a\")\n",
        "  f.write(f\"\\n{rank},{iter},{reg},{rmse}\")\n",
        "  f.close()"
      ],
      "metadata": {
        "id": "StuUgaP3irpr"
      },
      "execution_count": 16,
      "outputs": []
    },
    {
      "cell_type": "code",
      "source": [
        "num=int(newratings.count()*0.1)\n",
        "ortherDate=newratings.orderBy(col(\"date\").desc())\n",
        "testing=ortherDate.limit(int(num))\n",
        "train=ortherDate.subtract(testing)\n",
        "\n",
        "ortherDate=train.orderBy(col(\"date\").desc())\n",
        "validate=ortherDate.limit(int(num)*2)\n",
        "training=train.subtract(validate)\n",
        " \n",
        "print(f\"training: {training.count()}\")\n",
        "print(f\"validate: {validate.count()}\")\n",
        "print(f\"testing: {testing.count()}\")\n",
        "\n",
        "ranks=[3,5,10,15,20,25]\n",
        "iters=[3,5,10,15,20,25]\n",
        "regs=[0.1,0.2,0.3,0.4,0.5]\n",
        "\n",
        "for i in ranks:\n",
        "  model,rmse=trainModel(training,validate,i,iters[0],regs[0])\n",
        "  SaveRow(i,iters[0],regs[0],rmse)\n",
        "\n",
        "for i in iters:\n",
        "  model,rmse=trainModel(training,validate,ranks[0],i,regs[0])\n",
        "  SaveRow(ranks[0],i,regs[0],rmse)\n",
        "\n",
        "for i in iters:\n",
        "  model,rmse=trainModel(training,validate,ranks[0],iters[0],i)\n",
        "  SaveRow(ranks[0],iters[0],i,rmse)"
      ],
      "metadata": {
        "colab": {
          "base_uri": "https://localhost:8080/"
        },
        "id": "29I9bu4KiTLK",
        "outputId": "76426d00-e302-4806-a520-5398d8c6617d"
      },
      "execution_count": null,
      "outputs": [
        {
          "output_type": "stream",
          "name": "stdout",
          "text": [
            "training: 4893172\n",
            "validate: 1398056\n",
            "testing: 699028\n",
            "rank: 3,iter: 3,reg: 0.1, RMSE=1.7515949072299313\n",
            "rank: 5,iter: 3,reg: 0.1, RMSE=1.817529796409866\n"
          ]
        }
      ]
    },
    {
      "cell_type": "code",
      "source": [],
      "metadata": {
        "id": "XwwbDyU1mVx5"
      },
      "execution_count": null,
      "outputs": []
    }
  ],
  "metadata": {
    "colab": {
      "provenance": [],
      "collapsed_sections": [
        "zwlwVCK7iAoU"
      ],
      "authorship_tag": "ABX9TyNUhFLWsrrZEsHkWeRtgyXl",
      "include_colab_link": true
    },
    "kernelspec": {
      "display_name": "Python 3",
      "name": "python3"
    },
    "language_info": {
      "name": "python"
    }
  },
  "nbformat": 4,
  "nbformat_minor": 0
}