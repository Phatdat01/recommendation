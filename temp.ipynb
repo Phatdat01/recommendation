{
  "nbformat": 4,
  "nbformat_minor": 0,
  "metadata": {
    "colab": {
      "provenance": [],
      "authorship_tag": "ABX9TyPobmBMG/FWjLVlp4FCo0jc",
      "include_colab_link": true
    },
    "kernelspec": {
      "name": "python3",
      "display_name": "Python 3"
    },
    "language_info": {
      "name": "python"
    }
  },
  "cells": [
    {
      "cell_type": "markdown",
      "metadata": {
        "id": "view-in-github",
        "colab_type": "text"
      },
      "source": [
        "<a href=\"https://colab.research.google.com/github/Phatdat01/recommendation/blob/dev/temp.ipynb\" target=\"_parent\"><img src=\"https://colab.research.google.com/assets/colab-badge.svg\" alt=\"Open In Colab\"/></a>"
      ]
    },
    {
      "cell_type": "code",
      "execution_count": 3,
      "metadata": {
        "colab": {
          "base_uri": "https://localhost:8080/"
        },
        "id": "aqgK_vkCz7PD",
        "outputId": "0f6913cb-9357-46f1-fc4d-332d52b3d15a"
      },
      "outputs": [
        {
          "output_type": "stream",
          "name": "stdout",
          "text": [
            "Looking in indexes: https://pypi.org/simple, https://us-python.pkg.dev/colab-wheels/public/simple/\n",
            "Collecting mlflow\n",
            "  Downloading mlflow-2.0.1-py3-none-any.whl (16.5 MB)\n",
            "\u001b[K     |████████████████████████████████| 16.5 MB 8.5 MB/s \n",
            "\u001b[?25hCollecting alembic<2\n",
            "  Downloading alembic-1.8.1-py3-none-any.whl (209 kB)\n",
            "\u001b[K     |████████████████████████████████| 209 kB 55.8 MB/s \n",
            "\u001b[?25hRequirement already satisfied: click<9,>=7.0 in /usr/local/lib/python3.8/dist-packages (from mlflow) (7.1.2)\n",
            "Requirement already satisfied: requests<3,>=2.17.3 in /usr/local/lib/python3.8/dist-packages (from mlflow) (2.23.0)\n",
            "Requirement already satisfied: sqlparse<1,>=0.4.0 in /usr/local/lib/python3.8/dist-packages (from mlflow) (0.4.3)\n",
            "Requirement already satisfied: Jinja2<4,>=2.11 in /usr/local/lib/python3.8/dist-packages (from mlflow) (2.11.3)\n",
            "Requirement already satisfied: pyyaml<7,>=5.1 in /usr/local/lib/python3.8/dist-packages (from mlflow) (6.0)\n",
            "Requirement already satisfied: matplotlib<4 in /usr/local/lib/python3.8/dist-packages (from mlflow) (3.2.2)\n",
            "Requirement already satisfied: scipy<2 in /usr/local/lib/python3.8/dist-packages (from mlflow) (1.7.3)\n",
            "Collecting querystring-parser<2\n",
            "  Downloading querystring_parser-1.2.4-py2.py3-none-any.whl (7.9 kB)\n",
            "Requirement already satisfied: cloudpickle<3 in /usr/local/lib/python3.8/dist-packages (from mlflow) (1.5.0)\n",
            "Requirement already satisfied: packaging<22 in /usr/local/lib/python3.8/dist-packages (from mlflow) (21.3)\n",
            "Collecting databricks-cli<1,>=0.8.7\n",
            "  Downloading databricks-cli-0.17.4.tar.gz (82 kB)\n",
            "\u001b[K     |████████████████████████████████| 82 kB 489 kB/s \n",
            "\u001b[?25hRequirement already satisfied: pytz<2023 in /usr/local/lib/python3.8/dist-packages (from mlflow) (2022.6)\n",
            "Requirement already satisfied: pyarrow<11,>=4.0.0 in /usr/local/lib/python3.8/dist-packages (from mlflow) (9.0.0)\n",
            "Collecting gunicorn<21\n",
            "  Downloading gunicorn-20.1.0-py3-none-any.whl (79 kB)\n",
            "\u001b[K     |████████████████████████████████| 79 kB 8.2 MB/s \n",
            "\u001b[?25hRequirement already satisfied: importlib-metadata!=4.7.0,<6,>=3.7.0 in /usr/local/lib/python3.8/dist-packages (from mlflow) (4.13.0)\n",
            "Requirement already satisfied: pandas<2 in /usr/local/lib/python3.8/dist-packages (from mlflow) (1.3.5)\n",
            "Requirement already satisfied: markdown<4,>=3.3 in /usr/local/lib/python3.8/dist-packages (from mlflow) (3.4.1)\n",
            "Requirement already satisfied: scikit-learn<2 in /usr/local/lib/python3.8/dist-packages (from mlflow) (1.0.2)\n",
            "Requirement already satisfied: entrypoints<1 in /usr/local/lib/python3.8/dist-packages (from mlflow) (0.4)\n",
            "Collecting docker<7,>=4.0.0\n",
            "  Downloading docker-6.0.1-py3-none-any.whl (147 kB)\n",
            "\u001b[K     |████████████████████████████████| 147 kB 49.6 MB/s \n",
            "\u001b[?25hRequirement already satisfied: numpy<2 in /usr/local/lib/python3.8/dist-packages (from mlflow) (1.21.6)\n",
            "Collecting gitpython<4,>=2.1.0\n",
            "  Downloading GitPython-3.1.29-py3-none-any.whl (182 kB)\n",
            "\u001b[K     |████████████████████████████████| 182 kB 47.9 MB/s \n",
            "\u001b[?25hCollecting shap<1,>=0.40\n",
            "  Downloading shap-0.41.0-cp38-cp38-manylinux_2_12_x86_64.manylinux2010_x86_64.whl (575 kB)\n",
            "\u001b[K     |████████████████████████████████| 575 kB 56.2 MB/s \n",
            "\u001b[?25hRequirement already satisfied: protobuf<5,>=3.12.0 in /usr/local/lib/python3.8/dist-packages (from mlflow) (3.19.6)\n",
            "Requirement already satisfied: Flask<3 in /usr/local/lib/python3.8/dist-packages (from mlflow) (1.1.4)\n",
            "Requirement already satisfied: sqlalchemy<2,>=1.4.0 in /usr/local/lib/python3.8/dist-packages (from mlflow) (1.4.44)\n",
            "Collecting Mako\n",
            "  Downloading Mako-1.2.4-py3-none-any.whl (78 kB)\n",
            "\u001b[K     |████████████████████████████████| 78 kB 7.3 MB/s \n",
            "\u001b[?25hRequirement already satisfied: importlib-resources in /usr/local/lib/python3.8/dist-packages (from alembic<2->mlflow) (5.10.0)\n",
            "Collecting pyjwt>=1.7.0\n",
            "  Downloading PyJWT-2.6.0-py3-none-any.whl (20 kB)\n",
            "Requirement already satisfied: oauthlib>=3.1.0 in /usr/local/lib/python3.8/dist-packages (from databricks-cli<1,>=0.8.7->mlflow) (3.2.2)\n",
            "Requirement already satisfied: tabulate>=0.7.7 in /usr/local/lib/python3.8/dist-packages (from databricks-cli<1,>=0.8.7->mlflow) (0.8.10)\n",
            "Requirement already satisfied: six>=1.10.0 in /usr/local/lib/python3.8/dist-packages (from databricks-cli<1,>=0.8.7->mlflow) (1.15.0)\n",
            "Collecting requests<3,>=2.17.3\n",
            "  Downloading requests-2.28.1-py3-none-any.whl (62 kB)\n",
            "\u001b[K     |████████████████████████████████| 62 kB 1.4 MB/s \n",
            "\u001b[?25hCollecting urllib3>=1.26.0\n",
            "  Downloading urllib3-1.26.13-py2.py3-none-any.whl (140 kB)\n",
            "\u001b[K     |████████████████████████████████| 140 kB 51.7 MB/s \n",
            "\u001b[?25hCollecting websocket-client>=0.32.0\n",
            "  Downloading websocket_client-1.4.2-py3-none-any.whl (55 kB)\n",
            "\u001b[K     |████████████████████████████████| 55 kB 3.3 MB/s \n",
            "\u001b[?25hRequirement already satisfied: Werkzeug<2.0,>=0.15 in /usr/local/lib/python3.8/dist-packages (from Flask<3->mlflow) (1.0.1)\n",
            "Requirement already satisfied: itsdangerous<2.0,>=0.24 in /usr/local/lib/python3.8/dist-packages (from Flask<3->mlflow) (1.1.0)\n",
            "Collecting gitdb<5,>=4.0.1\n",
            "  Downloading gitdb-4.0.10-py3-none-any.whl (62 kB)\n",
            "\u001b[K     |████████████████████████████████| 62 kB 1.4 MB/s \n",
            "\u001b[?25hCollecting smmap<6,>=3.0.1\n",
            "  Downloading smmap-5.0.0-py3-none-any.whl (24 kB)\n",
            "Requirement already satisfied: setuptools>=3.0 in /usr/local/lib/python3.8/dist-packages (from gunicorn<21->mlflow) (57.4.0)\n",
            "Requirement already satisfied: zipp>=0.5 in /usr/local/lib/python3.8/dist-packages (from importlib-metadata!=4.7.0,<6,>=3.7.0->mlflow) (3.11.0)\n",
            "Requirement already satisfied: MarkupSafe>=0.23 in /usr/local/lib/python3.8/dist-packages (from Jinja2<4,>=2.11->mlflow) (2.0.1)\n",
            "Requirement already satisfied: kiwisolver>=1.0.1 in /usr/local/lib/python3.8/dist-packages (from matplotlib<4->mlflow) (1.4.4)\n",
            "Requirement already satisfied: cycler>=0.10 in /usr/local/lib/python3.8/dist-packages (from matplotlib<4->mlflow) (0.11.0)\n",
            "Requirement already satisfied: pyparsing!=2.0.4,!=2.1.2,!=2.1.6,>=2.0.1 in /usr/local/lib/python3.8/dist-packages (from matplotlib<4->mlflow) (3.0.9)\n",
            "Requirement already satisfied: python-dateutil>=2.1 in /usr/local/lib/python3.8/dist-packages (from matplotlib<4->mlflow) (2.8.2)\n",
            "Requirement already satisfied: charset-normalizer<3,>=2 in /usr/local/lib/python3.8/dist-packages (from requests<3,>=2.17.3->mlflow) (2.1.1)\n",
            "Requirement already satisfied: certifi>=2017.4.17 in /usr/local/lib/python3.8/dist-packages (from requests<3,>=2.17.3->mlflow) (2022.9.24)\n",
            "Requirement already satisfied: idna<4,>=2.5 in /usr/local/lib/python3.8/dist-packages (from requests<3,>=2.17.3->mlflow) (2.10)\n",
            "Requirement already satisfied: threadpoolctl>=2.0.0 in /usr/local/lib/python3.8/dist-packages (from scikit-learn<2->mlflow) (3.1.0)\n",
            "Requirement already satisfied: joblib>=0.11 in /usr/local/lib/python3.8/dist-packages (from scikit-learn<2->mlflow) (1.2.0)\n",
            "Requirement already satisfied: tqdm>4.25.0 in /usr/local/lib/python3.8/dist-packages (from shap<1,>=0.40->mlflow) (4.64.1)\n",
            "Collecting slicer==0.0.7\n",
            "  Downloading slicer-0.0.7-py3-none-any.whl (14 kB)\n",
            "Requirement already satisfied: numba in /usr/local/lib/python3.8/dist-packages (from shap<1,>=0.40->mlflow) (0.56.4)\n",
            "Requirement already satisfied: greenlet!=0.4.17 in /usr/local/lib/python3.8/dist-packages (from sqlalchemy<2,>=1.4.0->mlflow) (2.0.1)\n",
            "Requirement already satisfied: llvmlite<0.40,>=0.39.0dev0 in /usr/local/lib/python3.8/dist-packages (from numba->shap<1,>=0.40->mlflow) (0.39.1)\n",
            "Building wheels for collected packages: databricks-cli\n",
            "  Building wheel for databricks-cli (setup.py) ... \u001b[?25l\u001b[?25hdone\n",
            "  Created wheel for databricks-cli: filename=databricks_cli-0.17.4-py3-none-any.whl size=142894 sha256=ac0816d3626cc1ce34740cda99ad6545c0ed23cc90fbe6002495811530c9c6b5\n",
            "  Stored in directory: /root/.cache/pip/wheels/48/7c/6e/4bf2c1748c7ecf994ca951591de81674ed6bf633e1e337d873\n",
            "Successfully built databricks-cli\n",
            "Installing collected packages: urllib3, smmap, websocket-client, slicer, requests, pyjwt, Mako, gitdb, shap, querystring-parser, gunicorn, gitpython, docker, databricks-cli, alembic, mlflow\n",
            "  Attempting uninstall: urllib3\n",
            "    Found existing installation: urllib3 1.24.3\n",
            "    Uninstalling urllib3-1.24.3:\n",
            "      Successfully uninstalled urllib3-1.24.3\n",
            "  Attempting uninstall: requests\n",
            "    Found existing installation: requests 2.23.0\n",
            "    Uninstalling requests-2.23.0:\n",
            "      Successfully uninstalled requests-2.23.0\n",
            "Successfully installed Mako-1.2.4 alembic-1.8.1 databricks-cli-0.17.4 docker-6.0.1 gitdb-4.0.10 gitpython-3.1.29 gunicorn-20.1.0 mlflow-2.0.1 pyjwt-2.6.0 querystring-parser-1.2.4 requests-2.28.1 shap-0.41.0 slicer-0.0.7 smmap-5.0.0 urllib3-1.26.13 websocket-client-1.4.2\n",
            "Looking in indexes: https://pypi.org/simple, https://us-python.pkg.dev/colab-wheels/public/simple/\n",
            "Requirement already satisfied: gdown in /usr/local/lib/python3.8/dist-packages (4.4.0)\n",
            "Requirement already satisfied: filelock in /usr/local/lib/python3.8/dist-packages (from gdown) (3.8.0)\n",
            "Requirement already satisfied: beautifulsoup4 in /usr/local/lib/python3.8/dist-packages (from gdown) (4.6.3)\n",
            "Requirement already satisfied: requests[socks] in /usr/local/lib/python3.8/dist-packages (from gdown) (2.28.1)\n",
            "Requirement already satisfied: six in /usr/local/lib/python3.8/dist-packages (from gdown) (1.15.0)\n",
            "Requirement already satisfied: tqdm in /usr/local/lib/python3.8/dist-packages (from gdown) (4.64.1)\n",
            "Requirement already satisfied: certifi>=2017.4.17 in /usr/local/lib/python3.8/dist-packages (from requests[socks]->gdown) (2022.9.24)\n",
            "Requirement already satisfied: idna<4,>=2.5 in /usr/local/lib/python3.8/dist-packages (from requests[socks]->gdown) (2.10)\n",
            "Requirement already satisfied: urllib3<1.27,>=1.21.1 in /usr/local/lib/python3.8/dist-packages (from requests[socks]->gdown) (1.26.13)\n",
            "Requirement already satisfied: charset-normalizer<3,>=2 in /usr/local/lib/python3.8/dist-packages (from requests[socks]->gdown) (2.1.1)\n",
            "Requirement already satisfied: PySocks!=1.5.7,>=1.5.6 in /usr/local/lib/python3.8/dist-packages (from requests[socks]->gdown) (1.7.1)\n",
            "Looking in indexes: https://pypi.org/simple, https://us-python.pkg.dev/colab-wheels/public/simple/\n",
            "Collecting pyspark\n",
            "  Downloading pyspark-3.3.1.tar.gz (281.4 MB)\n",
            "\u001b[K     |████████████████████████████████| 281.4 MB 34 kB/s \n",
            "\u001b[?25hCollecting py4j==0.10.9.5\n",
            "  Downloading py4j-0.10.9.5-py2.py3-none-any.whl (199 kB)\n",
            "\u001b[K     |████████████████████████████████| 199 kB 57.9 MB/s \n",
            "\u001b[?25hBuilding wheels for collected packages: pyspark\n",
            "  Building wheel for pyspark (setup.py) ... \u001b[?25l\u001b[?25hdone\n",
            "  Created wheel for pyspark: filename=pyspark-3.3.1-py2.py3-none-any.whl size=281845512 sha256=30d91d221cf89e04eec558a45b0bbbd31764fbea55e0d5d5a7f07a0767b38e17\n",
            "  Stored in directory: /root/.cache/pip/wheels/43/dc/11/ec201cd671da62fa9c5cc77078235e40722170ceba231d7598\n",
            "Successfully built pyspark\n",
            "Installing collected packages: py4j, pyspark\n",
            "Successfully installed py4j-0.10.9.5 pyspark-3.3.1\n",
            "Access denied with the following error:\n",
            "\n",
            " \tCannot retrieve the public link of the file. You may need to change\n",
            "\tthe permission to 'Anyone with the link', or have had many accesses. \n",
            "\n",
            "You may still be able to access the file from the browser:\n",
            "\n",
            "\t https://drive.google.com/uc?id=1ZrayeVD2iZgfgB3sIt-L9LEn4zNFGgiu \n",
            "\n"
          ]
        }
      ],
      "source": [
        "!pip install mlflow\n",
        "!pip install gdown\n",
        "!pip install pyspark\n",
        "!gdown 1ZrayeVD2iZgfgB3sIt-L9LEn4zNFGgiu"
      ]
    },
    {
      "cell_type": "code",
      "source": [
        "!pip install --upgrade --no-cache-dir gdown\n",
        "# !python -m gdown.cli \"https://drive.google.com/uc?id=10xqEKqtA04JSKU2rF0XZQP9X34ovtgoY&confirm=t\"\n",
        "\n",
        "!python -m gdown.cli \"https://drive.google.com/uc?id=1ZrayeVD2iZgfgB3sIt-L9LEn4zNFGgiu&confirm=t\""
      ],
      "metadata": {
        "id": "nfAKkqqXFZGZ",
        "outputId": "1003f7ed-125c-4d75-a303-b952daab17b3",
        "colab": {
          "base_uri": "https://localhost:8080/"
        }
      },
      "execution_count": 10,
      "outputs": [
        {
          "output_type": "stream",
          "name": "stdout",
          "text": [
            "Looking in indexes: https://pypi.org/simple, https://us-python.pkg.dev/colab-wheels/public/simple/\n",
            "Requirement already satisfied: gdown in /usr/local/lib/python3.8/dist-packages (4.6.0)\n",
            "Requirement already satisfied: six in /usr/local/lib/python3.8/dist-packages (from gdown) (1.15.0)\n",
            "Requirement already satisfied: requests[socks] in /usr/local/lib/python3.8/dist-packages (from gdown) (2.28.1)\n",
            "Requirement already satisfied: tqdm in /usr/local/lib/python3.8/dist-packages (from gdown) (4.64.1)\n",
            "Requirement already satisfied: beautifulsoup4 in /usr/local/lib/python3.8/dist-packages (from gdown) (4.6.3)\n",
            "Requirement already satisfied: filelock in /usr/local/lib/python3.8/dist-packages (from gdown) (3.8.0)\n",
            "Requirement already satisfied: certifi>=2017.4.17 in /usr/local/lib/python3.8/dist-packages (from requests[socks]->gdown) (2022.9.24)\n",
            "Requirement already satisfied: idna<4,>=2.5 in /usr/local/lib/python3.8/dist-packages (from requests[socks]->gdown) (2.10)\n",
            "Requirement already satisfied: urllib3<1.27,>=1.21.1 in /usr/local/lib/python3.8/dist-packages (from requests[socks]->gdown) (1.26.13)\n",
            "Requirement already satisfied: charset-normalizer<3,>=2 in /usr/local/lib/python3.8/dist-packages (from requests[socks]->gdown) (2.1.1)\n",
            "Requirement already satisfied: PySocks!=1.5.7,>=1.5.6 in /usr/local/lib/python3.8/dist-packages (from requests[socks]->gdown) (1.7.1)\n",
            "Downloading...\n",
            "From: https://drive.google.com/uc?id=1ZrayeVD2iZgfgB3sIt-L9LEn4zNFGgiu&confirm=t\n",
            "To: /content/yelp_academic_dataset_review.json\n",
            "100% 5.34G/5.34G [00:45<00:00, 117MB/s]\n"
          ]
        }
      ]
    },
    {
      "cell_type": "code",
      "source": [
        "import os\n",
        "from pyspark.sql import SparkSession\n",
        "from pyspark.sql.functions import *\n",
        "from pyspark.sql.types import *\n",
        "from pyspark.ml.evaluation import RegressionEvaluator\n",
        "from pyspark.ml.recommendation import ALS\n",
        "from pyspark.ml.recommendation import ALSModel\n",
        "from pyspark.sql import Row\n",
        "import numpy as np\n",
        "from datetime import datetime\n",
        "import tarfile\n",
        "import matplotlib.pyplot as plt\n",
        "import pandas as pd\n",
        "from pyspark.sql import Window\n",
        "from pyspark.sql.window import *"
      ],
      "metadata": {
        "id": "pQjEN5ny0JBh"
      },
      "execution_count": 6,
      "outputs": []
    },
    {
      "cell_type": "code",
      "source": [
        "# %cd /content\n",
        "# # !mkdir yelp_dataset\n",
        "# my_tar = tarfile.open('/content/yelp_dataset.tar')\n",
        "# my_tar.extract('yelp_academic_dataset_review.json',\".\")\n",
        "# my_tar.close()\n",
        "# !rm /content/yelp_dataset.tar"
      ],
      "metadata": {
        "id": "O7XliYOR0dqt"
      },
      "execution_count": null,
      "outputs": []
    },
    {
      "cell_type": "code",
      "source": [
        "spark = SparkSession.builder\\\n",
        "        .master(\"local\")\\\n",
        "        .appName(\"Colab\")\\\n",
        "        .config('spark.ui.port', '5000')\\\n",
        "        .getOrCreate()"
      ],
      "metadata": {
        "id": "p_QZmSnA0fjo"
      },
      "execution_count": 11,
      "outputs": []
    },
    {
      "cell_type": "code",
      "source": [
        "df = spark.read.json(\"/content/yelp_academic_dataset_review.json\")\n",
        "df.printSchema()\n",
        "df.show(5)"
      ],
      "metadata": {
        "id": "di1XtkKQ0uZA",
        "colab": {
          "base_uri": "https://localhost:8080/"
        },
        "outputId": "55da70a1-2fb6-44b8-876b-18e4d145e782"
      },
      "execution_count": 12,
      "outputs": [
        {
          "output_type": "stream",
          "name": "stdout",
          "text": [
            "root\n",
            " |-- business_id: string (nullable = true)\n",
            " |-- cool: long (nullable = true)\n",
            " |-- date: string (nullable = true)\n",
            " |-- funny: long (nullable = true)\n",
            " |-- review_id: string (nullable = true)\n",
            " |-- stars: double (nullable = true)\n",
            " |-- text: string (nullable = true)\n",
            " |-- useful: long (nullable = true)\n",
            " |-- user_id: string (nullable = true)\n",
            "\n",
            "+--------------------+----+-------------------+-----+--------------------+-----+--------------------+------+--------------------+\n",
            "|         business_id|cool|               date|funny|           review_id|stars|                text|useful|             user_id|\n",
            "+--------------------+----+-------------------+-----+--------------------+-----+--------------------+------+--------------------+\n",
            "|XQfwVwDr-v0ZS3_Cb...|   0|2018-07-07 22:09:11|    0|KU_O5udG6zpxOg-Vc...|  3.0|If you decide to ...|     0|mh_-eMZ6K5RLWhZyI...|\n",
            "|7ATYjTIgM3jUlt4UM...|   1|2012-01-03 15:28:18|    0|BiTunyQ73aT9WBnpR...|  5.0|I've taken a lot ...|     1|OyoGAe7OKpv6SyGZT...|\n",
            "|YjUWPpI6HXG530lwP...|   0|2014-02-05 20:30:30|    0|saUsX_uimxRlCVr67...|  3.0|Family diner. Had...|     0|8g_iMtfSiwikVnbP2...|\n",
            "|kxX2SOes4o-D3ZQBk...|   1|2015-01-04 00:01:03|    0|AqPFMleE6RsU23_au...|  5.0|Wow!  Yummy, diff...|     1|_7bHUi9Uuf5__HHc_...|\n",
            "|e4Vwtrqf-wpJfwesg...|   1|2017-01-14 20:54:15|    0|Sx8TMOWLNuJBWer-0...|  4.0|Cute interior and...|     1|bcjbaE6dDog4jkNY9...|\n",
            "+--------------------+----+-------------------+-----+--------------------+-----+--------------------+------+--------------------+\n",
            "only showing top 5 rows\n",
            "\n"
          ]
        }
      ]
    },
    {
      "cell_type": "code",
      "source": [
        "ratings=df.select(\"user_id\",\"business_id\",\"stars\",\"date\",\"cool\",\"funny\",\"useful\")"
      ],
      "metadata": {
        "id": "xd95TUH30vyL"
      },
      "execution_count": 13,
      "outputs": []
    },
    {
      "cell_type": "code",
      "source": [
        "userRatings=ratings.groupBy(\"user_id\").count()\n",
        "## take id type int\n",
        "window = Window.orderBy(col('user_id'))\n",
        "userRatings = userRatings.withColumn('userid', row_number().over(window))\n",
        "\n",
        "##Because ALS in spark require users or items is  in int type, we must process it\n",
        "\n",
        "## if you use this, for the large data, it processes wrong\n",
        "# userRatings=ratings.groupBy(\"user_id\").count().withColumn(\"userid\", monotonically_increasing_id().cast(IntegerType()))\n",
        "userRatings.show(5)"
      ],
      "metadata": {
        "id": "bUU_I8mh0w3N",
        "colab": {
          "base_uri": "https://localhost:8080/"
        },
        "outputId": "d9036191-df15-4656-8a96-663190982ac0"
      },
      "execution_count": 14,
      "outputs": [
        {
          "output_type": "stream",
          "name": "stdout",
          "text": [
            "+--------------------+-----+------+\n",
            "|             user_id|count|userid|\n",
            "+--------------------+-----+------+\n",
            "|---1lKK3aKOuomHnw...|    1|     1|\n",
            "|---2PmXbF47D870st...|   28|     2|\n",
            "|---UgP94gokyCDuB5...|   11|     3|\n",
            "|---fa6ZK37T9NjkGK...|    1|     4|\n",
            "|---r61b7EpVPkb4UV...|    5|     5|\n",
            "+--------------------+-----+------+\n",
            "only showing top 5 rows\n",
            "\n"
          ]
        }
      ]
    },
    {
      "cell_type": "code",
      "source": [
        "buiRatings=ratings.groupBy(\"business_id\").count()\n",
        "## take id type int\n",
        "window = Window.orderBy(col('business_id'))\n",
        "buiRatings = buiRatings.withColumn('businessid', row_number().over(window))\n",
        "\n",
        "# buiRatings=ratings.groupBy(\"business_id\").count().withColumn(\"businessid\", monotonically_increasing_id().cast(IntegerType()))\n",
        "newratings=ratings.join(userRatings, ['user_id'])\n",
        "newratings=newratings.join(buiRatings, ['business_id'])\n",
        "newratings=newratings.select(\"userid\",\"businessid\",\"stars\",\"date\")"
      ],
      "metadata": {
        "id": "xY0Tts7C0zTv"
      },
      "execution_count": 15,
      "outputs": []
    },
    {
      "cell_type": "code",
      "source": [
        "newratings=newratings.withColumn(\"stars\",col(\"stars\").cast(IntegerType()))\n",
        "newratings=newratings.withColumn(\"date\",to_timestamp(\"date\"))\n",
        "\n",
        "print(newratings)\n",
        "newratings.show(5)"
      ],
      "metadata": {
        "id": "18U5BmfF01zi",
        "colab": {
          "base_uri": "https://localhost:8080/"
        },
        "outputId": "07e84090-fb69-4c6f-da53-54e6e4b0c3f5"
      },
      "execution_count": 16,
      "outputs": [
        {
          "output_type": "stream",
          "name": "stdout",
          "text": [
            "DataFrame[userid: int, businessid: int, stars: int, date: timestamp]\n",
            "+------+----------+-----+-------------------+\n",
            "|userid|businessid|stars|               date|\n",
            "+------+----------+-----+-------------------+\n",
            "|    20|     40541|    1|2015-05-03 03:53:01|\n",
            "|    20|     76452|    5|2015-05-21 03:18:49|\n",
            "|    26|      4489|    4|2020-10-29 23:34:47|\n",
            "|    36|    105552|    5|2019-04-18 05:17:58|\n",
            "|    36|     29020|    2|2017-02-03 06:14:50|\n",
            "+------+----------+-----+-------------------+\n",
            "only showing top 5 rows\n",
            "\n"
          ]
        }
      ]
    },
    {
      "cell_type": "code",
      "source": [
        "num=int(newratings.count()*0.3)\n",
        "ortherDate=newratings.orderBy(col(\"date\").desc())\n",
        "test=ortherDate.limit(int(num))\n",
        "train=ortherDate.subtract(test)"
      ],
      "metadata": {
        "id": "hmSBzQPx0_3Q"
      },
      "execution_count": 17,
      "outputs": []
    },
    {
      "cell_type": "code",
      "source": [
        "test.orderBy(col(\"date\").asc()).show(10)\n",
        "train.orderBy(col(\"date\").desc()).show(10)"
      ],
      "metadata": {
        "colab": {
          "base_uri": "https://localhost:8080/"
        },
        "id": "IK_PDFQhce3z",
        "outputId": "64ed18af-d10b-401e-d92c-0cb18db13329"
      },
      "execution_count": 21,
      "outputs": [
        {
          "output_type": "stream",
          "name": "stdout",
          "text": [
            "+-------+----------+-----+-------------------+\n",
            "| userid|businessid|stars|               date|\n",
            "+-------+----------+-----+-------------------+\n",
            "|1832830|     31615|    1|2019-01-06 03:47:03|\n",
            "|1042942|     86890|    4|2019-01-06 03:47:07|\n",
            "|1781463|     79615|    5|2019-01-06 03:47:19|\n",
            "|1213934|     58044|    1|2019-01-06 03:47:33|\n",
            "| 348358|     17893|    1|2019-01-06 03:47:45|\n",
            "| 842914|     57367|    1|2019-01-06 03:48:04|\n",
            "|1325386|     80502|    1|2019-01-06 03:48:57|\n",
            "|1310940|     67071|    5|2019-01-06 03:49:10|\n",
            "|1597092|     79182|    2|2019-01-06 03:51:07|\n",
            "| 834344|     94428|    5|2019-01-06 03:51:50|\n",
            "+-------+----------+-----+-------------------+\n",
            "only showing top 10 rows\n",
            "\n",
            "+-------+----------+-----+-------------------+\n",
            "| userid|businessid|stars|               date|\n",
            "+-------+----------+-----+-------------------+\n",
            "|1369796|     79423|    4|2019-01-06 03:46:45|\n",
            "|1583891|    131428|    5|2019-01-06 03:45:40|\n",
            "|1406586|     42322|    4|2019-01-06 03:45:18|\n",
            "| 520738|    123025|    2|2019-01-06 03:45:12|\n",
            "| 297437|     81400|    4|2019-01-06 03:45:06|\n",
            "|1749327|     32141|    2|2019-01-06 03:44:34|\n",
            "|1056642|    116797|    5|2019-01-06 03:44:33|\n",
            "| 783041|     70648|    2|2019-01-06 03:44:23|\n",
            "|1875848|     25062|    5|2019-01-06 03:44:02|\n",
            "|1572351|     54978|    2|2019-01-06 03:43:42|\n",
            "+-------+----------+-----+-------------------+\n",
            "only showing top 10 rows\n",
            "\n"
          ]
        }
      ]
    },
    {
      "cell_type": "code",
      "source": [
        "userTrain=train.groupBy('userid').count().select('userid')\n",
        "## remove same id \n",
        "duplicate=test.join(userTrain,['userid'])\n",
        "new=test.subtract(duplicate)"
      ],
      "metadata": {
        "id": "NEVRUSeK1MtQ"
      },
      "execution_count": 18,
      "outputs": []
    },
    {
      "cell_type": "code",
      "source": [
        "# def SplitTest(source,data):\n",
        "#     train,test=data.randomSplit([0.3,0.7])\n",
        "#     try:\n",
        "#         return source.union(train)\n",
        "#     except:\n",
        "#         return train"
      ],
      "metadata": {
        "id": "q6CNATRF1Xv-"
      },
      "execution_count": 15,
      "outputs": []
    },
    {
      "cell_type": "code",
      "source": [
        "# ## Keep data test with keep\n",
        "# newTrain = None\n",
        "# userNew=new.groupBy('userid').count().select('userid')\n",
        "# lstuserNew=userNew.rdd.flatMap(lambda x: x).collect()\n",
        "\n",
        "# for i in lstuserNew:\n",
        "#     userI=new.filter(col('userid')==i)\n",
        "#     newTrain=SplitTest(newTrain,userI)\n",
        "    "
      ],
      "metadata": {
        "id": "4nOwLh9k1bzt"
      },
      "execution_count": 16,
      "outputs": []
    },
    {
      "cell_type": "code",
      "source": [
        "## remove test data to union to train and for test\n",
        "newTrain,_=new.randomSplit([0.5,0.5])\n",
        "numNewTrain=newTrain.count()\n",
        "print(numNewTrain)\n",
        "descDate=train.orderBy(col(\"date\").desc())\n",
        "forTest=descDate.limit(numNewTrain)\n",
        "\n",
        "newtrain=train.subtract(forTest).union(newTrain)\n",
        "newTest=test.subtract(newTrain).union(forTest)"
      ],
      "metadata": {
        "id": "uU4OARY82nM1",
        "colab": {
          "base_uri": "https://localhost:8080/"
        },
        "outputId": "09d39da9-71ea-449b-9afe-684d34e5aa2a"
      },
      "execution_count": 19,
      "outputs": [
        {
          "output_type": "stream",
          "name": "stdout",
          "text": [
            "534855\n"
          ]
        }
      ]
    },
    {
      "cell_type": "code",
      "source": [
        "newTest.show(20)"
      ],
      "metadata": {
        "id": "CLameP7G1euy",
        "colab": {
          "base_uri": "https://localhost:8080/"
        },
        "outputId": "f8fb6c02-606a-4761-83f8-2a2acecbc9bd"
      },
      "execution_count": 20,
      "outputs": [
        {
          "output_type": "stream",
          "name": "stdout",
          "text": [
            "+------+----------+-----+-------------------+\n",
            "|userid|businessid|stars|               date|\n",
            "+------+----------+-----+-------------------+\n",
            "|   154|     52768|    3|2021-12-02 03:52:28|\n",
            "|   828|     20133|    4|2019-03-16 00:27:45|\n",
            "|  1212|    145265|    1|2021-09-20 19:30:54|\n",
            "|  2496|     67586|    1|2020-11-09 14:16:18|\n",
            "|  2596|    122596|    5|2020-01-18 11:03:09|\n",
            "|  2803|    107602|    5|2019-09-02 22:54:48|\n",
            "|  2816|     11831|    4|2019-08-06 04:33:08|\n",
            "|  3275|       659|    5|2019-08-27 20:06:01|\n",
            "|  3505|     83614|    5|2019-04-10 03:15:51|\n",
            "|  4053|    108136|    1|2021-11-11 18:20:22|\n",
            "|  4072|    120113|    5|2020-11-25 08:15:11|\n",
            "|  4127|     35692|    1|2020-08-26 19:06:27|\n",
            "|  4866|     32504|    5|2019-02-02 02:37:18|\n",
            "|  5198|     61557|    5|2019-04-03 23:34:15|\n",
            "|  5750|     20157|    1|2020-08-06 16:15:05|\n",
            "|  6178|     91376|    5|2021-03-24 03:55:53|\n",
            "|  7258|     19911|    2|2019-05-04 16:50:15|\n",
            "|  7291|    120936|    5|2020-01-02 17:59:10|\n",
            "|  7537|    113674|    4|2021-10-15 16:16:53|\n",
            "|  7611|     44530|    5|2020-10-08 20:51:57|\n",
            "+------+----------+-----+-------------------+\n",
            "only showing top 20 rows\n",
            "\n"
          ]
        }
      ]
    },
    {
      "cell_type": "code",
      "source": [
        "val,tes=newTest.randomSplit([2/3,1/3])\n",
        "print(f\"num newtest: {newTest.count()}\")\n",
        "print(f\"num val: {val.count()}\")\n",
        "print(f\"num tes: {tes.count()}\")"
      ],
      "metadata": {
        "id": "ECZYqWTZ1i9D",
        "colab": {
          "base_uri": "https://localhost:8080/"
        },
        "outputId": "926f8095-35c5-4409-cb18-99f7dec2950e"
      },
      "execution_count": 21,
      "outputs": [
        {
          "output_type": "stream",
          "name": "stdout",
          "text": [
            "num newtest: 2097082\n",
            "num val: 1398268\n",
            "num tes: 698814\n"
          ]
        }
      ]
    },
    {
      "cell_type": "code",
      "source": [
        "als= ALS(rank=4, maxIter=4, regParam=0.35, userCol=\"userid\", itemCol=\"businessid\", ratingCol=\"stars\", nonnegative=True,implicitPrefs = False,coldStartStrategy=\"drop\")\n",
        "model = als.fit(newtrain)\n",
        "predictions=model.transform(newtrain)\n",
        "evaluator = RegressionEvaluator(metricName=\"rmse\", labelCol=\"stars\", predictionCol=\"prediction\")\n",
        "rmse = evaluator.evaluate(predictions)\n",
        "print(f\"training RMSE={rmse}\")\n",
        "\n",
        "predictions=model.transform(val)\n",
        "evaluator = RegressionEvaluator(metricName=\"rmse\", labelCol=\"stars\", predictionCol=\"prediction\")\n",
        "rmse = evaluator.evaluate(predictions)\n",
        "print(f\"validate RMSE={rmse}\")"
      ],
      "metadata": {
        "id": "nb5GRf2S1jv8",
        "colab": {
          "base_uri": "https://localhost:8080/"
        },
        "outputId": "471127fb-2938-4a2c-9046-8a7e4aa6fd43"
      },
      "execution_count": 23,
      "outputs": [
        {
          "output_type": "stream",
          "name": "stdout",
          "text": [
            "training RMSE=0.8744853515758757\n",
            "validate RMSE=1.59505215255525\n"
          ]
        }
      ]
    },
    {
      "cell_type": "code",
      "source": [
        "predictions=model.transform(tes)\n",
        "evaluator = RegressionEvaluator(metricName=\"rmse\", labelCol=\"stars\", predictionCol=\"prediction\")\n",
        "rmse = evaluator.evaluate(predictions)\n",
        "print(f\"validate RMSE={rmse}\")"
      ],
      "metadata": {
        "id": "69Jv5X7J1ldg",
        "colab": {
          "base_uri": "https://localhost:8080/"
        },
        "outputId": "23cd2854-6330-412f-c28a-4e7ac758a9cb"
      },
      "execution_count": 20,
      "outputs": [
        {
          "output_type": "stream",
          "name": "stdout",
          "text": [
            "validate RMSE=1.5808870760015483\n"
          ]
        }
      ]
    },
    {
      "cell_type": "code",
      "source": [
        "als= ALS(rank=50, maxIter=50, regParam=0.35, userCol=\"userid\", itemCol=\"businessid\", ratingCol=\"stars\", nonnegative=True,implicitPrefs = False,coldStartStrategy=\"drop\")\n",
        "model = als.fit(newtrain)\n",
        "predictions=model.transform(newtrain)\n",
        "evaluator = RegressionEvaluator(metricName=\"rmse\", labelCol=\"stars\", predictionCol=\"prediction\")\n",
        "rmse = evaluator.evaluate(predictions)\n",
        "print(f\"training RMSE={rmse}\")\n",
        "\n",
        "predictions=model.transform(val)\n",
        "evaluator = RegressionEvaluator(metricName=\"rmse\", labelCol=\"stars\", predictionCol=\"prediction\")\n",
        "rmse = evaluator.evaluate(predictions)\n",
        "print(f\"validate RMSE={rmse}\")"
      ],
      "metadata": {
        "id": "VI6dCsOPRDpE"
      },
      "execution_count": null,
      "outputs": []
    },
    {
      "cell_type": "code",
      "source": [],
      "metadata": {
        "id": "Gqx1osRtET6P"
      },
      "execution_count": null,
      "outputs": []
    }
  ]
}