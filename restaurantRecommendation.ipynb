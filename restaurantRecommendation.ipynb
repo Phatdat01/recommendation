{
  "cells": [
    {
      "cell_type": "markdown",
      "metadata": {
        "id": "view-in-github",
        "colab_type": "text"
      },
      "source": [
        "<a href=\"https://colab.research.google.com/github/Phatdat01/recommendation/blob/main/restaurantRecommendation.ipynb\" target=\"_parent\"><img src=\"https://colab.research.google.com/assets/colab-badge.svg\" alt=\"Open In Colab\"/></a>"
      ]
    },
    {
      "cell_type": "code",
      "execution_count": null,
      "metadata": {
        "colab": {
          "base_uri": "https://localhost:8080/"
        },
        "id": "_YL4d3p4JJWh",
        "outputId": "a7d8baec-7e84-4ac1-ab1a-eabd96e77a85"
      },
      "outputs": [
        {
          "name": "stdout",
          "output_type": "stream",
          "text": [
            "Looking in indexes: https://pypi.org/simple, https://us-python.pkg.dev/colab-wheels/public/simple/\n",
            "Collecting mlflow\n",
            "  Downloading mlflow-1.30.0-py3-none-any.whl (17.0 MB)\n",
            "\u001b[K     |████████████████████████████████| 17.0 MB 121 kB/s \n",
            "\u001b[?25hRequirement already satisfied: Flask<3 in /usr/local/lib/python3.7/dist-packages (from mlflow) (1.1.4)\n",
            "Collecting prometheus-flask-exporter<1\n",
            "  Downloading prometheus_flask_exporter-0.21.0-py3-none-any.whl (18 kB)\n",
            "Requirement already satisfied: pyyaml<7,>=5.1 in /usr/local/lib/python3.7/dist-packages (from mlflow) (6.0)\n",
            "Requirement already satisfied: numpy<2 in /usr/local/lib/python3.7/dist-packages (from mlflow) (1.21.6)\n",
            "Collecting docker<7,>=4.0.0\n",
            "  Downloading docker-6.0.1-py3-none-any.whl (147 kB)\n",
            "\u001b[K     |████████████████████████████████| 147 kB 66.7 MB/s \n",
            "\u001b[?25hRequirement already satisfied: sqlparse<1,>=0.4.0 in /usr/local/lib/python3.7/dist-packages (from mlflow) (0.4.3)\n",
            "Requirement already satisfied: protobuf<5,>=3.12.0 in /usr/local/lib/python3.7/dist-packages (from mlflow) (3.19.6)\n",
            "Requirement already satisfied: entrypoints<1 in /usr/local/lib/python3.7/dist-packages (from mlflow) (0.4)\n",
            "Collecting alembic<2\n",
            "  Downloading alembic-1.8.1-py3-none-any.whl (209 kB)\n",
            "\u001b[K     |████████████████████████████████| 209 kB 71.5 MB/s \n",
            "\u001b[?25hRequirement already satisfied: importlib-metadata!=4.7.0,<6,>=3.7.0 in /usr/local/lib/python3.7/dist-packages (from mlflow) (4.13.0)\n",
            "Collecting gunicorn<21\n",
            "  Downloading gunicorn-20.1.0-py3-none-any.whl (79 kB)\n",
            "\u001b[K     |████████████████████████████████| 79 kB 3.9 MB/s \n",
            "\u001b[?25hRequirement already satisfied: packaging<22 in /usr/local/lib/python3.7/dist-packages (from mlflow) (21.3)\n",
            "Requirement already satisfied: pytz<2023 in /usr/local/lib/python3.7/dist-packages (from mlflow) (2022.6)\n",
            "Collecting querystring-parser<2\n",
            "  Downloading querystring_parser-1.2.4-py2.py3-none-any.whl (7.9 kB)\n",
            "Collecting gitpython<4,>=2.1.0\n",
            "  Downloading GitPython-3.1.29-py3-none-any.whl (182 kB)\n",
            "\u001b[K     |████████████████████████████████| 182 kB 74.9 MB/s \n",
            "\u001b[?25hRequirement already satisfied: requests<3,>=2.17.3 in /usr/local/lib/python3.7/dist-packages (from mlflow) (2.23.0)\n",
            "Requirement already satisfied: sqlalchemy<2,>=1.4.0 in /usr/local/lib/python3.7/dist-packages (from mlflow) (1.4.44)\n",
            "Requirement already satisfied: scipy<2 in /usr/local/lib/python3.7/dist-packages (from mlflow) (1.7.3)\n",
            "Requirement already satisfied: cloudpickle<3 in /usr/local/lib/python3.7/dist-packages (from mlflow) (1.5.0)\n",
            "Collecting databricks-cli<1,>=0.8.7\n",
            "  Downloading databricks-cli-0.17.3.tar.gz (77 kB)\n",
            "\u001b[K     |████████████████████████████████| 77 kB 8.7 MB/s \n",
            "\u001b[?25hRequirement already satisfied: pandas<2 in /usr/local/lib/python3.7/dist-packages (from mlflow) (1.3.5)\n",
            "Requirement already satisfied: click<9,>=7.0 in /usr/local/lib/python3.7/dist-packages (from mlflow) (7.1.2)\n",
            "Requirement already satisfied: importlib-resources in /usr/local/lib/python3.7/dist-packages (from alembic<2->mlflow) (5.10.0)\n",
            "Collecting Mako\n",
            "  Downloading Mako-1.2.4-py3-none-any.whl (78 kB)\n",
            "\u001b[K     |████████████████████████████████| 78 kB 8.7 MB/s \n",
            "\u001b[?25hCollecting pyjwt>=1.7.0\n",
            "  Downloading PyJWT-2.6.0-py3-none-any.whl (20 kB)\n",
            "Requirement already satisfied: oauthlib>=3.1.0 in /usr/local/lib/python3.7/dist-packages (from databricks-cli<1,>=0.8.7->mlflow) (3.2.2)\n",
            "Requirement already satisfied: tabulate>=0.7.7 in /usr/local/lib/python3.7/dist-packages (from databricks-cli<1,>=0.8.7->mlflow) (0.8.10)\n",
            "Requirement already satisfied: six>=1.10.0 in /usr/local/lib/python3.7/dist-packages (from databricks-cli<1,>=0.8.7->mlflow) (1.15.0)\n",
            "Collecting requests<3,>=2.17.3\n",
            "  Downloading requests-2.28.1-py3-none-any.whl (62 kB)\n",
            "\u001b[K     |████████████████████████████████| 62 kB 1.8 MB/s \n",
            "\u001b[?25hCollecting websocket-client>=0.32.0\n",
            "  Downloading websocket_client-1.4.2-py3-none-any.whl (55 kB)\n",
            "\u001b[K     |████████████████████████████████| 55 kB 3.7 MB/s \n",
            "\u001b[?25hCollecting urllib3>=1.26.0\n",
            "  Downloading urllib3-1.26.13-py2.py3-none-any.whl (140 kB)\n",
            "\u001b[K     |████████████████████████████████| 140 kB 48.3 MB/s \n",
            "\u001b[?25hRequirement already satisfied: Werkzeug<2.0,>=0.15 in /usr/local/lib/python3.7/dist-packages (from Flask<3->mlflow) (1.0.1)\n",
            "Requirement already satisfied: itsdangerous<2.0,>=0.24 in /usr/local/lib/python3.7/dist-packages (from Flask<3->mlflow) (1.1.0)\n",
            "Requirement already satisfied: Jinja2<3.0,>=2.10.1 in /usr/local/lib/python3.7/dist-packages (from Flask<3->mlflow) (2.11.3)\n",
            "Collecting gitdb<5,>=4.0.1\n",
            "  Downloading gitdb-4.0.10-py3-none-any.whl (62 kB)\n",
            "\u001b[K     |████████████████████████████████| 62 kB 1.5 MB/s \n",
            "\u001b[?25hRequirement already satisfied: typing-extensions>=3.7.4.3 in /usr/local/lib/python3.7/dist-packages (from gitpython<4,>=2.1.0->mlflow) (4.1.1)\n",
            "Collecting smmap<6,>=3.0.1\n",
            "  Downloading smmap-5.0.0-py3-none-any.whl (24 kB)\n",
            "Requirement already satisfied: setuptools>=3.0 in /usr/local/lib/python3.7/dist-packages (from gunicorn<21->mlflow) (57.4.0)\n",
            "Requirement already satisfied: zipp>=0.5 in /usr/local/lib/python3.7/dist-packages (from importlib-metadata!=4.7.0,<6,>=3.7.0->mlflow) (3.10.0)\n",
            "Requirement already satisfied: MarkupSafe>=0.23 in /usr/local/lib/python3.7/dist-packages (from Jinja2<3.0,>=2.10.1->Flask<3->mlflow) (2.0.1)\n",
            "Requirement already satisfied: pyparsing!=3.0.5,>=2.0.2 in /usr/local/lib/python3.7/dist-packages (from packaging<22->mlflow) (3.0.9)\n",
            "Requirement already satisfied: python-dateutil>=2.7.3 in /usr/local/lib/python3.7/dist-packages (from pandas<2->mlflow) (2.8.2)\n",
            "Requirement already satisfied: prometheus-client in /usr/local/lib/python3.7/dist-packages (from prometheus-flask-exporter<1->mlflow) (0.15.0)\n",
            "Requirement already satisfied: idna<4,>=2.5 in /usr/local/lib/python3.7/dist-packages (from requests<3,>=2.17.3->mlflow) (2.10)\n",
            "Requirement already satisfied: charset-normalizer<3,>=2 in /usr/local/lib/python3.7/dist-packages (from requests<3,>=2.17.3->mlflow) (2.1.1)\n",
            "Requirement already satisfied: certifi>=2017.4.17 in /usr/local/lib/python3.7/dist-packages (from requests<3,>=2.17.3->mlflow) (2022.9.24)\n",
            "Requirement already satisfied: greenlet!=0.4.17 in /usr/local/lib/python3.7/dist-packages (from sqlalchemy<2,>=1.4.0->mlflow) (2.0.1)\n",
            "Building wheels for collected packages: databricks-cli\n",
            "  Building wheel for databricks-cli (setup.py) ... \u001b[?25l\u001b[?25hdone\n",
            "  Created wheel for databricks-cli: filename=databricks_cli-0.17.3-py3-none-any.whl size=139102 sha256=000b4e10d1acfcd226875308a14f1211521a4863b8e293b987a7aabb13005d1d\n",
            "  Stored in directory: /root/.cache/pip/wheels/3f/73/87/c1e4b2145eb6049bb6c9aaf7ea1e38302b77ca219b6fef5d5c\n",
            "Successfully built databricks-cli\n",
            "Installing collected packages: urllib3, smmap, websocket-client, requests, pyjwt, Mako, gitdb, querystring-parser, prometheus-flask-exporter, gunicorn, gitpython, docker, databricks-cli, alembic, mlflow\n",
            "  Attempting uninstall: urllib3\n",
            "    Found existing installation: urllib3 1.24.3\n",
            "    Uninstalling urllib3-1.24.3:\n",
            "      Successfully uninstalled urllib3-1.24.3\n",
            "  Attempting uninstall: requests\n",
            "    Found existing installation: requests 2.23.0\n",
            "    Uninstalling requests-2.23.0:\n",
            "      Successfully uninstalled requests-2.23.0\n",
            "Successfully installed Mako-1.2.4 alembic-1.8.1 databricks-cli-0.17.3 docker-6.0.1 gitdb-4.0.10 gitpython-3.1.29 gunicorn-20.1.0 mlflow-1.30.0 prometheus-flask-exporter-0.21.0 pyjwt-2.6.0 querystring-parser-1.2.4 requests-2.28.1 smmap-5.0.0 urllib3-1.26.13 websocket-client-1.4.2\n",
            "Looking in indexes: https://pypi.org/simple, https://us-python.pkg.dev/colab-wheels/public/simple/\n",
            "Requirement already satisfied: gdown in /usr/local/lib/python3.7/dist-packages (4.4.0)\n",
            "Requirement already satisfied: tqdm in /usr/local/lib/python3.7/dist-packages (from gdown) (4.64.1)\n",
            "Requirement already satisfied: six in /usr/local/lib/python3.7/dist-packages (from gdown) (1.15.0)\n",
            "Requirement already satisfied: requests[socks] in /usr/local/lib/python3.7/dist-packages (from gdown) (2.28.1)\n",
            "Requirement already satisfied: beautifulsoup4 in /usr/local/lib/python3.7/dist-packages (from gdown) (4.6.3)\n",
            "Requirement already satisfied: filelock in /usr/local/lib/python3.7/dist-packages (from gdown) (3.8.0)\n",
            "Requirement already satisfied: certifi>=2017.4.17 in /usr/local/lib/python3.7/dist-packages (from requests[socks]->gdown) (2022.9.24)\n",
            "Requirement already satisfied: urllib3<1.27,>=1.21.1 in /usr/local/lib/python3.7/dist-packages (from requests[socks]->gdown) (1.26.13)\n",
            "Requirement already satisfied: charset-normalizer<3,>=2 in /usr/local/lib/python3.7/dist-packages (from requests[socks]->gdown) (2.1.1)\n",
            "Requirement already satisfied: idna<4,>=2.5 in /usr/local/lib/python3.7/dist-packages (from requests[socks]->gdown) (2.10)\n",
            "Requirement already satisfied: PySocks!=1.5.7,>=1.5.6 in /usr/local/lib/python3.7/dist-packages (from requests[socks]->gdown) (1.7.1)\n",
            "Access denied with the following error:\n",
            "\n",
            " \tCannot retrieve the public link of the file. You may need to change\n",
            "\tthe permission to 'Anyone with the link', or have had many accesses. \n",
            "\n",
            "You may still be able to access the file from the browser:\n",
            "\n",
            "\t https://drive.google.com/uc?id=1A-Uwe762UZ8ufw1KpkeuFPYF7znvnVy4 \n",
            "\n",
            "Looking in indexes: https://pypi.org/simple, https://us-python.pkg.dev/colab-wheels/public/simple/\n",
            "Collecting pyspark\n",
            "  Downloading pyspark-3.3.1.tar.gz (281.4 MB)\n",
            "\u001b[K     |████████████████████████████████| 281.4 MB 50 kB/s \n",
            "\u001b[?25hCollecting py4j==0.10.9.5\n",
            "  Downloading py4j-0.10.9.5-py2.py3-none-any.whl (199 kB)\n",
            "\u001b[K     |████████████████████████████████| 199 kB 65.3 MB/s \n",
            "\u001b[?25hBuilding wheels for collected packages: pyspark\n",
            "  Building wheel for pyspark (setup.py) ... \u001b[?25l\u001b[?25hdone\n",
            "  Created wheel for pyspark: filename=pyspark-3.3.1-py2.py3-none-any.whl size=281845512 sha256=3391c25069e570d8979fd51b8d15b4cf6e773bd2fc59df5e16fbef61b207cedf\n",
            "  Stored in directory: /root/.cache/pip/wheels/42/59/f5/79a5bf931714dcd201b26025347785f087370a10a3329a899c\n",
            "Successfully built pyspark\n",
            "Installing collected packages: py4j, pyspark\n",
            "Successfully installed py4j-0.10.9.5 pyspark-3.3.1\n"
          ]
        }
      ],
      "source": [
        "!pip install mlflow\n",
        "!pip install gdown\n",
        "!gdown 1A-Uwe762UZ8ufw1KpkeuFPYF7znvnVy4\n",
        "!pip install pyspark"
      ]
    },
    {
      "cell_type": "code",
      "execution_count": null,
      "metadata": {
        "colab": {
          "base_uri": "https://localhost:8080/"
        },
        "id": "SMMgY-4eVHDa",
        "outputId": "b848a87c-700b-4f65-a36b-fe34985d5bb0"
      },
      "outputs": [
        {
          "name": "stdout",
          "output_type": "stream",
          "text": [
            "Looking in indexes: https://pypi.org/simple, https://us-python.pkg.dev/colab-wheels/public/simple/\n",
            "Requirement already satisfied: gdown in /usr/local/lib/python3.7/dist-packages (4.4.0)\n",
            "Collecting gdown\n",
            "  Downloading gdown-4.5.3-py3-none-any.whl (14 kB)\n",
            "Requirement already satisfied: requests[socks] in /usr/local/lib/python3.7/dist-packages (from gdown) (2.28.1)\n",
            "Requirement already satisfied: tqdm in /usr/local/lib/python3.7/dist-packages (from gdown) (4.64.1)\n",
            "Requirement already satisfied: beautifulsoup4 in /usr/local/lib/python3.7/dist-packages (from gdown) (4.6.3)\n",
            "Requirement already satisfied: filelock in /usr/local/lib/python3.7/dist-packages (from gdown) (3.8.0)\n",
            "Requirement already satisfied: six in /usr/local/lib/python3.7/dist-packages (from gdown) (1.15.0)\n",
            "Requirement already satisfied: idna<4,>=2.5 in /usr/local/lib/python3.7/dist-packages (from requests[socks]->gdown) (2.10)\n",
            "Requirement already satisfied: charset-normalizer<3,>=2 in /usr/local/lib/python3.7/dist-packages (from requests[socks]->gdown) (2.1.1)\n",
            "Requirement already satisfied: urllib3<1.27,>=1.21.1 in /usr/local/lib/python3.7/dist-packages (from requests[socks]->gdown) (1.26.13)\n",
            "Requirement already satisfied: certifi>=2017.4.17 in /usr/local/lib/python3.7/dist-packages (from requests[socks]->gdown) (2022.9.24)\n",
            "Requirement already satisfied: PySocks!=1.5.7,>=1.5.6 in /usr/local/lib/python3.7/dist-packages (from requests[socks]->gdown) (1.7.1)\n",
            "Installing collected packages: gdown\n",
            "  Attempting uninstall: gdown\n",
            "    Found existing installation: gdown 4.4.0\n",
            "    Uninstalling gdown-4.4.0:\n",
            "      Successfully uninstalled gdown-4.4.0\n",
            "Successfully installed gdown-4.5.3\n",
            "Downloading...\n",
            "From: https://drive.google.com/uc?id=1A-Uwe762UZ8ufw1KpkeuFPYF7znvnVy4&confirm=t\n",
            "To: /content/yelp_dataset.tar\n",
            "100% 4.34G/4.34G [00:57<00:00, 75.0MB/s]\n"
          ]
        }
      ],
      "source": [
        "!pip install --upgrade --no-cache-dir gdown\n",
        "!python -m gdown.cli \"https://drive.google.com/uc?id=1A-Uwe762UZ8ufw1KpkeuFPYF7znvnVy4&confirm=t\""
      ]
    },
    {
      "cell_type": "code",
      "execution_count": null,
      "metadata": {
        "id": "U_TJVj9mJRLD"
      },
      "outputs": [],
      "source": [
        "import os\n",
        "from pyspark.sql import SparkSession\n",
        "from pyspark.sql.functions import *\n",
        "from pyspark.sql.types import *\n",
        "from pyspark.ml.evaluation import RegressionEvaluator\n",
        "from pyspark.ml.recommendation import ALS\n",
        "from pyspark.sql import Row\n",
        "import numpy as np\n",
        "from datetime import datetime\n",
        "import tarfile\n",
        "import matplotlib.pyplot as plt\n",
        "import pandas as pd"
      ]
    },
    {
      "cell_type": "code",
      "execution_count": null,
      "metadata": {
        "colab": {
          "base_uri": "https://localhost:8080/"
        },
        "id": "DjrBqmH3MgIO",
        "outputId": "a6a7ee07-1777-47ef-9b38-7931816e59b8"
      },
      "outputs": [
        {
          "name": "stdout",
          "output_type": "stream",
          "text": [
            "/content/yelp_dataset\n"
          ]
        }
      ],
      "source": [
        "!mkdir yelp_dataset\n",
        "%cd /content/yelp_dataset\n",
        "my_tar = tarfile.open('/content/yelp_dataset.tar')\n",
        "my_tar.extract('yelp_academic_dataset_review.json',\".\")\n",
        "my_tar.close()\n",
        "!rm /content/yelp_dataset.tar"
      ]
    },
    {
      "cell_type": "code",
      "execution_count": null,
      "metadata": {
        "colab": {
          "base_uri": "https://localhost:8080/"
        },
        "id": "B0Hs_ve0x1_T",
        "outputId": "b43fb0dd-73d4-44bd-f0e8-97e06c7500d1"
      },
      "outputs": [
        {
          "name": "stdout",
          "output_type": "stream",
          "text": [
            "/content/yelp_dataset\n",
            "yelp_academic_dataset_review.json\n"
          ]
        }
      ],
      "source": [
        "%cd /content/yelp_dataset\n",
        "!ls"
      ]
    },
    {
      "cell_type": "code",
      "execution_count": null,
      "metadata": {
        "id": "f3bCcHjNKkQi"
      },
      "outputs": [],
      "source": [
        "spark = SparkSession.builder\\\n",
        "        .master(\"local\")\\\n",
        "        .appName(\"Colab\")\\\n",
        "        .config('spark.ui.port', '5000')\\\n",
        "        .getOrCreate()"
      ]
    },
    {
      "cell_type": "code",
      "execution_count": null,
      "metadata": {
        "colab": {
          "base_uri": "https://localhost:8080/"
        },
        "id": "Hn3bHtPlMnNv",
        "outputId": "2eca289f-2df3-4885-8a9d-1b830d80665d"
      },
      "outputs": [
        {
          "name": "stdout",
          "output_type": "stream",
          "text": [
            "root\n",
            " |-- business_id: string (nullable = true)\n",
            " |-- cool: long (nullable = true)\n",
            " |-- date: string (nullable = true)\n",
            " |-- funny: long (nullable = true)\n",
            " |-- review_id: string (nullable = true)\n",
            " |-- stars: double (nullable = true)\n",
            " |-- text: string (nullable = true)\n",
            " |-- useful: long (nullable = true)\n",
            " |-- user_id: string (nullable = true)\n",
            "\n",
            "+--------------------+----+-------------------+-----+--------------------+-----+--------------------+------+--------------------+\n",
            "|         business_id|cool|               date|funny|           review_id|stars|                text|useful|             user_id|\n",
            "+--------------------+----+-------------------+-----+--------------------+-----+--------------------+------+--------------------+\n",
            "|XQfwVwDr-v0ZS3_Cb...|   0|2018-07-07 22:09:11|    0|KU_O5udG6zpxOg-Vc...|  3.0|If you decide to ...|     0|mh_-eMZ6K5RLWhZyI...|\n",
            "|7ATYjTIgM3jUlt4UM...|   1|2012-01-03 15:28:18|    0|BiTunyQ73aT9WBnpR...|  5.0|I've taken a lot ...|     1|OyoGAe7OKpv6SyGZT...|\n",
            "|YjUWPpI6HXG530lwP...|   0|2014-02-05 20:30:30|    0|saUsX_uimxRlCVr67...|  3.0|Family diner. Had...|     0|8g_iMtfSiwikVnbP2...|\n",
            "|kxX2SOes4o-D3ZQBk...|   1|2015-01-04 00:01:03|    0|AqPFMleE6RsU23_au...|  5.0|Wow!  Yummy, diff...|     1|_7bHUi9Uuf5__HHc_...|\n",
            "|e4Vwtrqf-wpJfwesg...|   1|2017-01-14 20:54:15|    0|Sx8TMOWLNuJBWer-0...|  4.0|Cute interior and...|     1|bcjbaE6dDog4jkNY9...|\n",
            "+--------------------+----+-------------------+-----+--------------------+-----+--------------------+------+--------------------+\n",
            "only showing top 5 rows\n",
            "\n"
          ]
        }
      ],
      "source": [
        "df = spark.read.json(\"/content/yelp_dataset/yelp_academic_dataset_review.json\")\n",
        "df.printSchema()\n",
        "df.show(5)"
      ]
    },
    {
      "cell_type": "code",
      "execution_count": null,
      "metadata": {
        "id": "ydj35SW5Njtg"
      },
      "outputs": [],
      "source": [
        "ratings=df.select(\"user_id\",\"business_id\",\"stars\",\"date\",\"cool\",\"funny\",\"useful\")"
      ]
    },
    {
      "cell_type": "code",
      "execution_count": null,
      "metadata": {
        "colab": {
          "base_uri": "https://localhost:8080/"
        },
        "id": "4RVVngzHlZRi",
        "outputId": "cbc4cc05-c1aa-4f46-8094-ecc9fd803541"
      },
      "outputs": [
        {
          "name": "stdout",
          "output_type": "stream",
          "text": [
            "+--------------------+-----+------+\n",
            "|             user_id|count|userid|\n",
            "+--------------------+-----+------+\n",
            "|3M1_pyDSgMP6sRMz5...|    2|     0|\n",
            "|3rSKIFAWcJ-0jkRJc...|    1|     1|\n",
            "|dMrmnopCJ0xxEuG7W...|   67|     2|\n",
            "|kbx5teHlHE1D0WMtp...|    3|     3|\n",
            "|4P_GCHFMV0mF2SqEW...|    1|     4|\n",
            "+--------------------+-----+------+\n",
            "only showing top 5 rows\n",
            "\n"
          ]
        }
      ],
      "source": [
        "from pyspark.sql.functions import monotonically_increasing_id\n",
        "##Because ALS in spark require users or items is  in int type, we must process it\n",
        "userRatings=ratings.groupBy(\"user_id\").count().withColumn(\"userid\", monotonically_increasing_id().cast(IntegerType()))\n",
        "userRatings.show(5)"
      ]
    },
    {
      "cell_type": "code",
      "execution_count": null,
      "metadata": {
        "id": "GEZfH8W3lcfa"
      },
      "outputs": [],
      "source": [
        "buiRatings=ratings.groupBy(\"business_id\").count().withColumn(\"businessid\", monotonically_increasing_id().cast(IntegerType()))\n",
        "\n",
        "newratings=ratings.join(userRatings, ratings.user_id ==  userRatings.user_id,\"inner\")\n",
        "newratings=newratings.join(buiRatings, newratings.business_id ==  buiRatings.business_id,\"inner\")\n",
        "newratings=newratings.select(\"userid\",\"businessid\",\"stars\",\"date\",\"cool\",\"funny\",\"useful\")\n"
      ]
    },
    {
      "cell_type": "code",
      "execution_count": null,
      "metadata": {
        "colab": {
          "base_uri": "https://localhost:8080/"
        },
        "id": "WmQjiNM5lfOP",
        "outputId": "aa521209-f366-45ab-c7ea-036d8b0e3ced"
      },
      "outputs": [
        {
          "name": "stdout",
          "output_type": "stream",
          "text": [
            "DataFrame[userid: int, businessid: int, stars: double, date: string, cool: bigint, funny: bigint, useful: bigint]\n",
            "+------+----------+-----+-------------------+----+-----+------+\n",
            "|userid|businessid|stars|               date|cool|funny|useful|\n",
            "+------+----------+-----+-------------------+----+-----+------+\n",
            "| 36790|      5774|  5.0|2020-02-20 00:50:49|   0|    0|     1|\n",
            "| 36015|      5774|  4.0|2021-11-28 16:40:02|   0|    0|     0|\n",
            "| 64986|      5774|  5.0|2021-10-17 02:02:58|   0|    0|     0|\n",
            "| 23627|      5774|  5.0|2020-03-18 01:34:18|   0|    0|     2|\n",
            "| 61265|      5774|  5.0|2020-09-05 20:09:03|   0|    0|     0|\n",
            "+------+----------+-----+-------------------+----+-----+------+\n",
            "only showing top 5 rows\n",
            "\n"
          ]
        }
      ],
      "source": [
        "print(newratings)\n",
        "newratings.show(5)"
      ]
    },
    {
      "cell_type": "code",
      "execution_count": null,
      "metadata": {
        "colab": {
          "background_save": true,
          "base_uri": "https://localhost:8080/"
        },
        "id": "EtSz71yIkTUn",
        "outputId": "bd84e17d-296a-4159-d974-8632d43d3844"
      },
      "outputs": [
        {
          "name": "stdout",
          "output_type": "stream",
          "text": [
            "DataFrame[userid: int, businessid: int, stars: int, date: timestamp, cool: int, funny: int, useful: int]\n",
            "+------+----------+-----+-------------------+----+-----+------+\n",
            "|userid|businessid|stars|               date|cool|funny|useful|\n",
            "+------+----------+-----+-------------------+----+-----+------+\n",
            "| 36790|      5774|    5|2020-02-20 00:50:49|   0|    0|     1|\n",
            "| 36015|      5774|    4|2021-11-28 16:40:02|   0|    0|     0|\n",
            "| 64986|      5774|    5|2021-10-17 02:02:58|   0|    0|     0|\n",
            "| 23627|      5774|    5|2020-03-18 01:34:18|   0|    0|     2|\n",
            "| 61265|      5774|    5|2020-09-05 20:09:03|   0|    0|     0|\n",
            "+------+----------+-----+-------------------+----+-----+------+\n",
            "only showing top 5 rows\n",
            "\n"
          ]
        }
      ],
      "source": [
        "newratings=newratings.withColumn(\"stars\",col(\"stars\").cast(IntegerType()))\n",
        "newratings=newratings.withColumn(\"date\",to_timestamp(\"date\"))\n",
        "newratings=newratings.withColumn(\"cool\",col(\"cool\").cast(IntegerType()))\n",
        "newratings=newratings.withColumn(\"funny\",col(\"funny\").cast(IntegerType()))\n",
        "newratings=newratings.withColumn(\"useful\",col(\"useful\").cast(IntegerType()))\n",
        "\n",
        "print(newratings)\n",
        "newratings.show(5)"
      ]
    },
    {
      "cell_type": "code",
      "execution_count": null,
      "metadata": {
        "colab": {
          "background_save": true
        },
        "id": "565htWlqqfGM",
        "outputId": "eb02765d-917c-4293-ef41-27ae2a4dcd4b"
      },
      "outputs": [
        {
          "data": {
            "image/png": "[encoded data removed]",
            "text/plain": [
              "<Figure size 432x288 with 1 Axes>"
            ]
          },
          "metadata": {},
          "output_type": "display_data"
        }
      ],
      "source": [
        "gre_histogram = newratings.select('stars').rdd.flatMap(lambda x: x).histogram(11)\n",
        "\n",
        "pd.DataFrame(\n",
        "    list(zip(*gre_histogram)), \n",
        "    columns=['bin', 'frequency']\n",
        ").set_index(\n",
        "    'bin'\n",
        ").plot(kind='bar');"
      ]
    },
    {
      "cell_type": "code",
      "execution_count": null,
      "metadata": {
        "colab": {
          "background_save": true
        },
        "id": "1Z_vWsncgzRE",
        "outputId": "55db2336-3516-4cc4-bed1-7246a1d5b6a3"
      },
      "outputs": [
        {
          "data": {
            "text/plain": [
              "DataFrame[userid: int, businessid: int, stars: int, date: timestamp, cool: int, funny: int, useful: int, year: int]"
            ]
          },
          "metadata": {},
          "output_type": "display_data"
        }
      ],
      "source": [
        "df1 = newratings.withColumn('year',year(newratings.date))\n",
        "df1 = newratings.withColumn('year',year(newratings.date))\n",
        "display(df1)"
      ]
    },
    {
      "cell_type": "code",
      "execution_count": null,
      "metadata": {
        "colab": {
          "background_save": true
        },
        "id": "4QiWWHaEg1Et",
        "outputId": "0e55b076-7b10-4209-8a48-a3cdfaaccdb0"
      },
      "outputs": [
        {
          "data": {
            "text/plain": [
              "DataFrame[businessid: int, meanstars: double, numUser: bigint]"
            ]
          },
          "metadata": {},
          "output_type": "display_data"
        }
      ],
      "source": [
        "df2=df1.groupBy(\"businessid\").agg(avg(\"stars\").alias(\"meanstars\"),count('userid').alias('numUser'))\n",
        "display(df2)"
      ]
    },
    {
      "cell_type": "markdown",
      "metadata": {
        "id": "lkAQT7btYCj-"
      },
      "source": [
        "## Because there is some problem if you collect by date  while the items don't have any rating, so it can be difficult to predict"
      ]
    },
    {
      "cell_type": "code",
      "execution_count": null,
      "metadata": {
        "colab": {
          "background_save": true
        },
        "id": "sK2UpWi7YRo3",
        "outputId": "6119a324-436d-40c4-9171-95a1bac9e2b9"
      },
      "outputs": [
        {
          "name": "stdout",
          "output_type": "stream",
          "text": [
            "1397386\n",
            "+------+----------+-----+-------------------+----+-----+------+\n",
            "|userid|businessid|stars|               date|cool|funny|useful|\n",
            "+------+----------+-----+-------------------+----+-----+------+\n",
            "|     0|       914|    5|2018-07-26 09:15:30|   0|    0|     0|\n",
            "|     0|      2751|    5|2020-06-10 13:50:11|   1|    0|     0|\n",
            "|     0|      2967|    5|2021-10-19 13:24:25|   1|    1|     2|\n",
            "|     0|      4435|    5|2018-10-26 20:44:12|   1|    0|     2|\n",
            "|     0|      5983|    5|2018-10-26 23:30:31|   2|    0|     3|\n",
            "+------+----------+-----+-------------------+----+-----+------+\n",
            "only showing top 5 rows\n",
            "\n",
            "5592879\n"
          ]
        }
      ],
      "source": [
        "numtest=int(newratings.count()*0.4)\n",
        "ortherDate=newratings.orderBy(col(\"date\").desc())\n",
        "testing=ortherDate.limit(int(numtest))\n",
        "(_, testing) = testing.randomSplit([0.5, 0.5])\n",
        "training = newratings.subtract(testing)\n",
        "\n",
        "print(testing.count())\n",
        "testing.show(5)\n",
        "print(training.count())"
      ]
    },
    {
      "cell_type": "code",
      "execution_count": null,
      "metadata": {
        "id": "b2uL-SOsmL2E"
      },
      "outputs": [],
      "source": [
        "from multiprocessing.pool import ThreadPool as Pool\n",
        "from datetime import datetime\n",
        "\n",
        "def worker(i):\n",
        "  start=datetime.now()\n",
        "  print(f\"processing time: {datetime.now()}\")\n",
        "  als= ALS(rank=5, maxIter=5, regParam=0.15, userCol=\"businessid\", itemCol=\"userid\", ratingCol=\"stars\", nonnegative=True,implicitPrefs = False,coldStartStrategy=\"drop\")\n",
        "  model = als.fit(training)\n",
        "  print(f\"processing time: {datetime.now()}\")\n",
        "  predictions=model.transform(testing)\n",
        "  print(f\"processing time: {datetime.now()}\")\n",
        "  evaluator = RegressionEvaluator(metricName=\"rmse\", labelCol=\"stars\", predictionCol=\"prediction\")\n",
        "  rmse = evaluator.evaluate(predictions)\n",
        "  print(f\"time {i} RMSE={rmse}\")\n",
        "  end=datetime.now()\n",
        "  print(f\"processing time: {end-start}\")\n",
        "    \n",
        "# pool = Pool(2)\n",
        "item=5\n",
        "worker(item)"
      ]
    },
    {
      "cell_type": "markdown",
      "metadata": {
        "id": "f9yYbPn2DhF2"
      },
      "source": [
        "# Normal"
      ]
    },
    {
      "cell_type": "code",
      "execution_count": null,
      "metadata": {
        "id": "y5VuduXCNWDu"
      },
      "outputs": [],
      "source": [
        "from multiprocessing.pool import ThreadPool as Pool\n",
        "from datetime import datetime\n",
        "\n",
        "def worker(i):\n",
        "  start=datetime.now()\n",
        "  print(f\"processing time: {datetime.now()}\")\n",
        "  als= ALS(rank=5, maxIter=5, regParam=0.15, userCol=\"userid\", itemCol=\"businessid\", ratingCol=\"stars\", nonnegative=True,implicitPrefs = False,coldStartStrategy=\"drop\")\n",
        "  model = als.fit(training)\n",
        "  print(f\"processing time: {datetime.now()}\")\n",
        "  predictions=model.transform(testing)\n",
        "  print(f\"processing time: {datetime.now()}\")\n",
        "  evaluator = RegressionEvaluator(metricName=\"rmse\", labelCol=\"stars\", predictionCol=\"prediction\")\n",
        "  rmse = evaluator.evaluate(predictions)\n",
        "  print(f\"time {i} RMSE={rmse}\")\n",
        "  end=datetime.now()\n",
        "  print(f\"processing time: {end-start}\")\n",
        "    \n",
        "# pool = Pool(2)\n",
        "item=5\n",
        "worker(item)"
      ]
    },
    {
      "cell_type": "markdown",
      "metadata": {
        "id": "71Ps6oafmY2M"
      },
      "source": [
        "# stratified sampling"
      ]
    },
    {
      "cell_type": "code",
      "execution_count": null,
      "metadata": {
        "id": "1ezssTTEmYHa"
      },
      "outputs": [],
      "source": [
        "rat1=newratings.where(col(\"stars\")==1)\n",
        "rat2=newratings.where(col(\"stars\")==2)\n",
        "rat3=newratings.where(col(\"stars\")==3)\n",
        "rat4=newratings.where(col(\"stars\")==4)\n",
        "rat5=newratings.where(col(\"stars\")==5)"
      ]
    },
    {
      "cell_type": "code",
      "execution_count": null,
      "metadata": {
        "id": "ygCe4KLy63tL"
      },
      "outputs": [],
      "source": [
        "def trainTestSPlit(newratings):\n",
        "    numtest=int(newratings.count()*0.4)\n",
        "    ortherDate=newratings.orderBy(col(\"date\").desc())\n",
        "    testing=ortherDate.limit(int(numtest))\n",
        "    (_, testing) = testing.randomSplit([0.5, 0.5])\n",
        "    training = newratings.subtract(testing)\n",
        "    return training,testing"
      ]
    },
    {
      "cell_type": "code",
      "execution_count": null,
      "metadata": {
        "id": "qj6QF1GIts0d"
      },
      "outputs": [],
      "source": [
        "train1,test1=trainTestSPlit(rat1)\n",
        "train2,test2=trainTestSPlit(rat2)\n",
        "train3,test3=trainTestSPlit(rat3)\n",
        "train4,test4=trainTestSPlit(rat4)\n",
        "train5,test5=trainTestSPlit(rat5)"
      ]
    },
    {
      "cell_type": "code",
      "execution_count": null,
      "metadata": {
        "id": "9q_MnFikz63m"
      },
      "outputs": [],
      "source": [
        "mertrain=train1.union(train2).union(train3).union(train4).union(train5)\n",
        "mertest=test1.union(test2).union(test3).union(test4).union(test5)"
      ]
    },
    {
      "cell_type": "code",
      "execution_count": null,
      "metadata": {
        "id": "3M1fT1a134-z"
      },
      "outputs": [],
      "source": [
        "from multiprocessing.pool import ThreadPool as Pool\n",
        "from datetime import datetime\n",
        "\n",
        "predictions=None\n",
        "\n",
        "def work(i,train,test):\n",
        "  start=datetime.now()\n",
        "  als= ALS(rank=i, maxIter=5, regParam=0.15, userCol=\"businessid\", itemCol=\"userid\", ratingCol=\"stars\", nonnegative=True,implicitPrefs = False,coldStartStrategy=\"drop\")\n",
        "  model = als.fit(train)\n",
        "  ski=datetime.now()-start\n",
        "  print(f\"Time fit model: {ski}\")\n",
        "  predictions=model.transform(test)\n",
        "  print(f\"Time predict: {datetime.now()-ski}\")\n",
        "  evaluator = RegressionEvaluator(metricName=\"rmse\", labelCol=\"stars\", predictionCol=\"prediction\")\n",
        "  rmse = evaluator.evaluate(predictions)\n",
        "  print(f\"time {i} RMSE={rmse}\")\n",
        "  end=datetime.now()\n",
        "  print(f\"processing time: {end-start}\")\n",
        "  return predictions\n",
        "\n",
        "i=0   \n",
        "for item in range(3,15):\n",
        "  prediction=work(item,mertrain,mertest)\n",
        "  if i==1:\n",
        "    predictions=prediction\n",
        "  i+=1\n"
      ]
    },
    {
      "cell_type": "markdown",
      "metadata": {
        "id": "vg7tROQmDkv_"
      },
      "source": [
        "# Multi processing"
      ]
    },
    {
      "cell_type": "code",
      "execution_count": null,
      "metadata": {
        "id": "iFO9-FFYljLu"
      },
      "outputs": [],
      "source": [
        "from multiprocessing.pool import ThreadPool as Pool\n",
        "\n",
        "def worker(i,flag):\n",
        "    als= ALS(rank=5, maxIter=5, regParam=0.15, userCol=\"userid\", itemCol=\"businessid\", ratingCol=\"stars\", nonnegative=True,implicitPrefs = False,coldStartStrategy=\"drop\")\n",
        "    model = als.fit(training)\n",
        "    predictions=model.transform(testing)\n",
        "    evaluator = RegressionEvaluator(metricName=\"rmse\", labelCol=\"stars\", predictionCol=\"prediction\")\n",
        "    rmse = evaluator.evaluate(predictions)\n",
        "    print(f\"time {i} with flag {flag}: RMSE={rmse}\")\n",
        "    \n",
        "pool = Pool(10)\n",
        "for item in range(5,15):\n",
        "  for flag in [True,False]:\n",
        "    pool.apply_async(worker, (item,flag))\n",
        "    \n",
        "pool.close()\n",
        "pool.join()"
      ]
    },
    {
      "cell_type": "markdown",
      "metadata": {
        "id": "C75it3clxTY9"
      },
      "source": [
        "# Cross validation"
      ]
    },
    {
      "cell_type": "code",
      "execution_count": null,
      "metadata": {
        "colab": {
          "base_uri": "https://localhost:8080/"
        },
        "id": "IuRpHVom8HvT",
        "outputId": "1d533707-8f5d-45af-be11-89d87e13bcf4"
      },
      "outputs": [
        {
          "name": "stdout",
          "output_type": "stream",
          "text": [
            "Load complete als model\n",
            "ALS_6581ec885334\n",
            "[{Param(parent='ALS_6581ec885334', name='regParam', doc='regularization parameter (>= 0).'): 0.01}, {Param(parent='ALS_6581ec885334', name='regParam', doc='regularization parameter (>= 0).'): 0.05}, {Param(parent='ALS_6581ec885334', name='regParam', doc='regularization parameter (>= 0).'): 0.1}, {Param(parent='ALS_6581ec885334', name='regParam', doc='regularization parameter (>= 0).'): 0.15}]\n",
            "That's params\n",
            "Load cross validation CrossValidator_37a77c99dc94\n"
          ]
        }
      ],
      "source": [
        "# Cross validation\n",
        "from pyspark.ml.tuning import CrossValidator, ParamGridBuilder, CrossValidatorModel\n",
        "\n",
        "als= ALS(rank=5, maxIter=5, regParam=0.15, userCol=\"userid\", itemCol=\"businessid\", ratingCol=\"stars\", nonnegative=True,implicitPrefs = False,coldStartStrategy=\"drop\")\n",
        "print(\"Load complete als model\")\n",
        "print(als)\n",
        "evaluator = RegressionEvaluator(metricName=\"rmse\", labelCol=\"stars\", predictionCol=\"prediction\")\n",
        "params = ParamGridBuilder().addGrid(als.regParam,[.01, .05, .1, .15]).build()\n",
        "print(params)\n",
        "print(\"That's params\")\n",
        "cv = CrossValidator(estimator=als, estimatorParamMaps=params, evaluator=evaluator, parallelism=4, numFolds= 5)\n",
        "print(f\"Load cross validation {cv}\")\n",
        "best_model = cv.fit(newratings)\n",
        "model = best_model.bestModel\n",
        "print(model)"
      ]
    },
    {
      "cell_type": "code",
      "execution_count": null,
      "metadata": {
        "id": "mzcC5_tZCFyk"
      },
      "outputs": [],
      "source": [
        "predictions=model.transform(testing)\n",
        "evaluator = RegressionEvaluator(metricName=\"rmse\", labelCol=\"stars\", predictionCol=\"prediction\")\n",
        "rmse = evaluator.evaluate(predictions)\n",
        "print(f\"RMSE={rmse}\")"
      ]
    },
    {
      "cell_type": "markdown",
      "metadata": {
        "id": "Mzg6vGuB8b8r"
      },
      "source": [
        "# Recommendation Show"
      ]
    },
    {
      "cell_type": "code",
      "execution_count": null,
      "metadata": {
        "id": "Wd92xIcj8gK7"
      },
      "outputs": [],
      "source": [
        "rcm = model.recommendForAllUsers(10)\n",
        "rcm.show(10)"
      ]
    },
    {
      "cell_type": "code",
      "execution_count": null,
      "metadata": {
        "id": "A-TCFv_98qXn"
      },
      "outputs": [],
      "source": [
        "recommendations = rcm.withColumn(\"rec_exp\", explode(\"recommendations\"))\\\n",
        "    .select('userId', col(\"newratings.businessid\"), col(\"newratings.stars\"))\n",
        "recommendations.limit(10).show()"
      ]
    },
    {
      "cell_type": "markdown",
      "metadata": {
        "id": "70cIY9XZg0wM"
      },
      "source": [
        "# USE LAYER"
      ]
    },
    {
      "cell_type": "markdown",
      "metadata": {
        "id": "uQqXNp1L1n7f"
      },
      "source": [
        "## Compile Linear"
      ]
    },
    {
      "cell_type": "code",
      "execution_count": null,
      "metadata": {
        "id": "JJW1pBiw3qfM"
      },
      "outputs": [],
      "source": [
        " import io\n",
        "from pyspark.sql.funtions import flatten\n",
        "from pyspark.ml.linalg import DenseVector\n",
        "\n",
        "\n",
        "a=newratings.count()\n",
        "users=newratings.collect(col(\"userid\"))\n",
        "items=newratings.collect(col(\"businessid\"))\n"
      ]
    }
  ],
  "metadata": {
    "accelerator": "GPU",
    "colab": {
      "collapsed_sections": [
        "C75it3clxTY9",
        "Mzg6vGuB8b8r",
        "uQqXNp1L1n7f"
      ],
      "provenance": [],
      "include_colab_link": true
    },
    "gpuClass": "standard",
    "kernelspec": {
      "display_name": "Python 3",
      "name": "python3"
    },
    "language_info": {
      "name": "python"
    }
  },
  "nbformat": 4,
  "nbformat_minor": 0
}