{
  "cells": [
    {
      "cell_type": "markdown",
      "metadata": {
        "id": "view-in-github",
        "colab_type": "text"
      },
      "source": [
        "<a href=\"https://colab.research.google.com/github/Phatdat01/recommendation/blob/main/restaurantRecommendation.ipynb\" target=\"_parent\"><img src=\"https://colab.research.google.com/assets/colab-badge.svg\" alt=\"Open In Colab\"/></a>"
      ]
    },
    {
      "cell_type": "code",
      "execution_count": null,
      "metadata": {
        "colab": {
          "base_uri": "https://localhost:8080/"
        },
        "id": "Fhd8a2NXsgI-",
        "outputId": "634bf722-033c-4e57-eaa5-f1c301e1f552"
      },
      "outputs": [
        {
          "output_type": "stream",
          "name": "stdout",
          "text": [
            "Mounted at /content/drive\n"
          ]
        }
      ],
      "source": [
        "from google.colab import drive\n",
        "drive.mount('/content/drive')"
      ]
    },
    {
      "cell_type": "code",
      "execution_count": null,
      "metadata": {
        "colab": {
          "base_uri": "https://localhost:8080/"
        },
        "id": "_YL4d3p4JJWh",
        "outputId": "76465267-b537-44ac-fdc2-d17db65e2074"
      },
      "outputs": [
        {
          "output_type": "stream",
          "name": "stdout",
          "text": [
            "Looking in indexes: https://pypi.org/simple, https://us-python.pkg.dev/colab-wheels/public/simple/\n",
            "Collecting mlflow\n",
            "  Downloading mlflow-2.0.1-py3-none-any.whl (16.5 MB)\n",
            "\u001b[K     |████████████████████████████████| 16.5 MB 4.7 MB/s \n",
            "\u001b[?25hRequirement already satisfied: scikit-learn<2 in /usr/local/lib/python3.8/dist-packages (from mlflow) (1.0.2)\n",
            "Requirement already satisfied: pyarrow<11,>=4.0.0 in /usr/local/lib/python3.8/dist-packages (from mlflow) (9.0.0)\n",
            "Collecting alembic<2\n",
            "  Downloading alembic-1.8.1-py3-none-any.whl (209 kB)\n",
            "\u001b[K     |████████████████████████████████| 209 kB 67.0 MB/s \n",
            "\u001b[?25hCollecting gitpython<4,>=2.1.0\n",
            "  Downloading GitPython-3.1.29-py3-none-any.whl (182 kB)\n",
            "\u001b[K     |████████████████████████████████| 182 kB 78.6 MB/s \n",
            "\u001b[?25hCollecting gunicorn<21\n",
            "  Downloading gunicorn-20.1.0-py3-none-any.whl (79 kB)\n",
            "\u001b[K     |████████████████████████████████| 79 kB 10.5 MB/s \n",
            "\u001b[?25hRequirement already satisfied: requests<3,>=2.17.3 in /usr/local/lib/python3.8/dist-packages (from mlflow) (2.23.0)\n",
            "Requirement already satisfied: matplotlib<4 in /usr/local/lib/python3.8/dist-packages (from mlflow) (3.2.2)\n",
            "Requirement already satisfied: sqlalchemy<2,>=1.4.0 in /usr/local/lib/python3.8/dist-packages (from mlflow) (1.4.44)\n",
            "Requirement already satisfied: scipy<2 in /usr/local/lib/python3.8/dist-packages (from mlflow) (1.7.3)\n",
            "Requirement already satisfied: packaging<22 in /usr/local/lib/python3.8/dist-packages (from mlflow) (21.3)\n",
            "Collecting shap<1,>=0.40\n",
            "  Downloading shap-0.41.0-cp38-cp38-manylinux_2_12_x86_64.manylinux2010_x86_64.whl (575 kB)\n",
            "\u001b[K     |████████████████████████████████| 575 kB 80.0 MB/s \n",
            "\u001b[?25hRequirement already satisfied: protobuf<5,>=3.12.0 in /usr/local/lib/python3.8/dist-packages (from mlflow) (3.19.6)\n",
            "Requirement already satisfied: cloudpickle<3 in /usr/local/lib/python3.8/dist-packages (from mlflow) (1.5.0)\n",
            "Requirement already satisfied: pyyaml<7,>=5.1 in /usr/local/lib/python3.8/dist-packages (from mlflow) (6.0)\n",
            "Collecting docker<7,>=4.0.0\n",
            "  Downloading docker-6.0.1-py3-none-any.whl (147 kB)\n",
            "\u001b[K     |████████████████████████████████| 147 kB 82.9 MB/s \n",
            "\u001b[?25hCollecting databricks-cli<1,>=0.8.7\n",
            "  Downloading databricks-cli-0.17.4.tar.gz (82 kB)\n",
            "\u001b[K     |████████████████████████████████| 82 kB 602 kB/s \n",
            "\u001b[?25hRequirement already satisfied: markdown<4,>=3.3 in /usr/local/lib/python3.8/dist-packages (from mlflow) (3.4.1)\n",
            "Requirement already satisfied: click<9,>=7.0 in /usr/local/lib/python3.8/dist-packages (from mlflow) (7.1.2)\n",
            "Requirement already satisfied: sqlparse<1,>=0.4.0 in /usr/local/lib/python3.8/dist-packages (from mlflow) (0.4.3)\n",
            "Requirement already satisfied: pytz<2023 in /usr/local/lib/python3.8/dist-packages (from mlflow) (2022.6)\n",
            "Requirement already satisfied: numpy<2 in /usr/local/lib/python3.8/dist-packages (from mlflow) (1.21.6)\n",
            "Requirement already satisfied: Flask<3 in /usr/local/lib/python3.8/dist-packages (from mlflow) (1.1.4)\n",
            "Requirement already satisfied: entrypoints<1 in /usr/local/lib/python3.8/dist-packages (from mlflow) (0.4)\n",
            "Collecting querystring-parser<2\n",
            "  Downloading querystring_parser-1.2.4-py2.py3-none-any.whl (7.9 kB)\n",
            "Requirement already satisfied: Jinja2<4,>=2.11 in /usr/local/lib/python3.8/dist-packages (from mlflow) (2.11.3)\n",
            "Requirement already satisfied: pandas<2 in /usr/local/lib/python3.8/dist-packages (from mlflow) (1.3.5)\n",
            "Requirement already satisfied: importlib-metadata!=4.7.0,<6,>=3.7.0 in /usr/local/lib/python3.8/dist-packages (from mlflow) (4.13.0)\n",
            "Requirement already satisfied: importlib-resources in /usr/local/lib/python3.8/dist-packages (from alembic<2->mlflow) (5.10.0)\n",
            "Collecting Mako\n",
            "  Downloading Mako-1.2.4-py3-none-any.whl (78 kB)\n",
            "\u001b[K     |████████████████████████████████| 78 kB 9.6 MB/s \n",
            "\u001b[?25hCollecting pyjwt>=1.7.0\n",
            "  Downloading PyJWT-2.6.0-py3-none-any.whl (20 kB)\n",
            "Requirement already satisfied: oauthlib>=3.1.0 in /usr/local/lib/python3.8/dist-packages (from databricks-cli<1,>=0.8.7->mlflow) (3.2.2)\n",
            "Requirement already satisfied: tabulate>=0.7.7 in /usr/local/lib/python3.8/dist-packages (from databricks-cli<1,>=0.8.7->mlflow) (0.8.10)\n",
            "Requirement already satisfied: six>=1.10.0 in /usr/local/lib/python3.8/dist-packages (from databricks-cli<1,>=0.8.7->mlflow) (1.15.0)\n",
            "Collecting urllib3>=1.26.0\n",
            "  Downloading urllib3-1.26.13-py2.py3-none-any.whl (140 kB)\n",
            "\u001b[K     |████████████████████████████████| 140 kB 68.3 MB/s \n",
            "\u001b[?25hCollecting websocket-client>=0.32.0\n",
            "  Downloading websocket_client-1.4.2-py3-none-any.whl (55 kB)\n",
            "\u001b[K     |████████████████████████████████| 55 kB 4.6 MB/s \n",
            "\u001b[?25hCollecting requests<3,>=2.17.3\n",
            "  Downloading requests-2.28.1-py3-none-any.whl (62 kB)\n",
            "\u001b[K     |████████████████████████████████| 62 kB 2.0 MB/s \n",
            "\u001b[?25hRequirement already satisfied: itsdangerous<2.0,>=0.24 in /usr/local/lib/python3.8/dist-packages (from Flask<3->mlflow) (1.1.0)\n",
            "Requirement already satisfied: Werkzeug<2.0,>=0.15 in /usr/local/lib/python3.8/dist-packages (from Flask<3->mlflow) (1.0.1)\n",
            "Collecting gitdb<5,>=4.0.1\n",
            "  Downloading gitdb-4.0.10-py3-none-any.whl (62 kB)\n",
            "\u001b[K     |████████████████████████████████| 62 kB 1.8 MB/s \n",
            "\u001b[?25hCollecting smmap<6,>=3.0.1\n",
            "  Downloading smmap-5.0.0-py3-none-any.whl (24 kB)\n",
            "Requirement already satisfied: setuptools>=3.0 in /usr/local/lib/python3.8/dist-packages (from gunicorn<21->mlflow) (57.4.0)\n",
            "Requirement already satisfied: zipp>=0.5 in /usr/local/lib/python3.8/dist-packages (from importlib-metadata!=4.7.0,<6,>=3.7.0->mlflow) (3.11.0)\n",
            "Requirement already satisfied: MarkupSafe>=0.23 in /usr/local/lib/python3.8/dist-packages (from Jinja2<4,>=2.11->mlflow) (2.0.1)\n",
            "Requirement already satisfied: kiwisolver>=1.0.1 in /usr/local/lib/python3.8/dist-packages (from matplotlib<4->mlflow) (1.4.4)\n",
            "Requirement already satisfied: cycler>=0.10 in /usr/local/lib/python3.8/dist-packages (from matplotlib<4->mlflow) (0.11.0)\n",
            "Requirement already satisfied: pyparsing!=2.0.4,!=2.1.2,!=2.1.6,>=2.0.1 in /usr/local/lib/python3.8/dist-packages (from matplotlib<4->mlflow) (3.0.9)\n",
            "Requirement already satisfied: python-dateutil>=2.1 in /usr/local/lib/python3.8/dist-packages (from matplotlib<4->mlflow) (2.8.2)\n",
            "Requirement already satisfied: charset-normalizer<3,>=2 in /usr/local/lib/python3.8/dist-packages (from requests<3,>=2.17.3->mlflow) (2.1.1)\n",
            "Requirement already satisfied: certifi>=2017.4.17 in /usr/local/lib/python3.8/dist-packages (from requests<3,>=2.17.3->mlflow) (2022.9.24)\n",
            "Requirement already satisfied: idna<4,>=2.5 in /usr/local/lib/python3.8/dist-packages (from requests<3,>=2.17.3->mlflow) (2.10)\n",
            "Requirement already satisfied: threadpoolctl>=2.0.0 in /usr/local/lib/python3.8/dist-packages (from scikit-learn<2->mlflow) (3.1.0)\n",
            "Requirement already satisfied: joblib>=0.11 in /usr/local/lib/python3.8/dist-packages (from scikit-learn<2->mlflow) (1.2.0)\n",
            "Requirement already satisfied: numba in /usr/local/lib/python3.8/dist-packages (from shap<1,>=0.40->mlflow) (0.56.4)\n",
            "Collecting slicer==0.0.7\n",
            "  Downloading slicer-0.0.7-py3-none-any.whl (14 kB)\n",
            "Requirement already satisfied: tqdm>4.25.0 in /usr/local/lib/python3.8/dist-packages (from shap<1,>=0.40->mlflow) (4.64.1)\n",
            "Requirement already satisfied: greenlet!=0.4.17 in /usr/local/lib/python3.8/dist-packages (from sqlalchemy<2,>=1.4.0->mlflow) (2.0.1)\n",
            "Requirement already satisfied: llvmlite<0.40,>=0.39.0dev0 in /usr/local/lib/python3.8/dist-packages (from numba->shap<1,>=0.40->mlflow) (0.39.1)\n",
            "Building wheels for collected packages: databricks-cli\n",
            "  Building wheel for databricks-cli (setup.py) ... \u001b[?25l\u001b[?25hdone\n",
            "  Created wheel for databricks-cli: filename=databricks_cli-0.17.4-py3-none-any.whl size=142894 sha256=be25a877cae30c19197cea06431ae312c669bf58a79d2c4a03415dd7775bfc15\n",
            "  Stored in directory: /root/.cache/pip/wheels/48/7c/6e/4bf2c1748c7ecf994ca951591de81674ed6bf633e1e337d873\n",
            "Successfully built databricks-cli\n",
            "Installing collected packages: urllib3, smmap, websocket-client, slicer, requests, pyjwt, Mako, gitdb, shap, querystring-parser, gunicorn, gitpython, docker, databricks-cli, alembic, mlflow\n",
            "  Attempting uninstall: urllib3\n",
            "    Found existing installation: urllib3 1.24.3\n",
            "    Uninstalling urllib3-1.24.3:\n",
            "      Successfully uninstalled urllib3-1.24.3\n",
            "  Attempting uninstall: requests\n",
            "    Found existing installation: requests 2.23.0\n",
            "    Uninstalling requests-2.23.0:\n",
            "      Successfully uninstalled requests-2.23.0\n",
            "Successfully installed Mako-1.2.4 alembic-1.8.1 databricks-cli-0.17.4 docker-6.0.1 gitdb-4.0.10 gitpython-3.1.29 gunicorn-20.1.0 mlflow-2.0.1 pyjwt-2.6.0 querystring-parser-1.2.4 requests-2.28.1 shap-0.41.0 slicer-0.0.7 smmap-5.0.0 urllib3-1.26.13 websocket-client-1.4.2\n",
            "Looking in indexes: https://pypi.org/simple, https://us-python.pkg.dev/colab-wheels/public/simple/\n",
            "Requirement already satisfied: gdown in /usr/local/lib/python3.8/dist-packages (4.4.0)\n",
            "Requirement already satisfied: requests[socks] in /usr/local/lib/python3.8/dist-packages (from gdown) (2.28.1)\n",
            "Requirement already satisfied: filelock in /usr/local/lib/python3.8/dist-packages (from gdown) (3.8.0)\n",
            "Requirement already satisfied: beautifulsoup4 in /usr/local/lib/python3.8/dist-packages (from gdown) (4.6.3)\n",
            "Requirement already satisfied: six in /usr/local/lib/python3.8/dist-packages (from gdown) (1.15.0)\n",
            "Requirement already satisfied: tqdm in /usr/local/lib/python3.8/dist-packages (from gdown) (4.64.1)\n",
            "Requirement already satisfied: idna<4,>=2.5 in /usr/local/lib/python3.8/dist-packages (from requests[socks]->gdown) (2.10)\n",
            "Requirement already satisfied: urllib3<1.27,>=1.21.1 in /usr/local/lib/python3.8/dist-packages (from requests[socks]->gdown) (1.26.13)\n",
            "Requirement already satisfied: certifi>=2017.4.17 in /usr/local/lib/python3.8/dist-packages (from requests[socks]->gdown) (2022.9.24)\n",
            "Requirement already satisfied: charset-normalizer<3,>=2 in /usr/local/lib/python3.8/dist-packages (from requests[socks]->gdown) (2.1.1)\n",
            "Requirement already satisfied: PySocks!=1.5.7,>=1.5.6 in /usr/local/lib/python3.8/dist-packages (from requests[socks]->gdown) (1.7.1)\n",
            "Access denied with the following error:\n",
            "\n",
            " \tCannot retrieve the public link of the file. You may need to change\n",
            "\tthe permission to 'Anyone with the link', or have had many accesses. \n",
            "\n",
            "You may still be able to access the file from the browser:\n",
            "\n",
            "\t https://drive.google.com/uc?id=10xqEKqtA04JSKU2rF0XZQP9X34ovtgoY \n",
            "\n",
            "Looking in indexes: https://pypi.org/simple, https://us-python.pkg.dev/colab-wheels/public/simple/\n",
            "Collecting pyspark\n",
            "  Downloading pyspark-3.3.1.tar.gz (281.4 MB)\n",
            "\u001b[K     |████████████████████████████████| 281.4 MB 48 kB/s \n",
            "\u001b[?25hCollecting py4j==0.10.9.5\n",
            "  Downloading py4j-0.10.9.5-py2.py3-none-any.whl (199 kB)\n",
            "\u001b[K     |████████████████████████████████| 199 kB 4.2 MB/s \n",
            "\u001b[?25hBuilding wheels for collected packages: pyspark\n",
            "  Building wheel for pyspark (setup.py) ... \u001b[?25l\u001b[?25hdone\n",
            "  Created wheel for pyspark: filename=pyspark-3.3.1-py2.py3-none-any.whl size=281845512 sha256=3043ef87eda74dfa30a3a8983c34081c49a393d6f92598d2645d657cbf295768\n",
            "  Stored in directory: /root/.cache/pip/wheels/43/dc/11/ec201cd671da62fa9c5cc77078235e40722170ceba231d7598\n",
            "Successfully built pyspark\n",
            "Installing collected packages: py4j, pyspark\n",
            "Successfully installed py4j-0.10.9.5 pyspark-3.3.1\n"
          ]
        }
      ],
      "source": [
        "!pip install mlflow\n",
        "!pip install gdown\n",
        "!gdown 10xqEKqtA04JSKU2rF0XZQP9X34ovtgoY\n",
        "!pip install pyspark"
      ]
    },
    {
      "cell_type": "code",
      "execution_count": null,
      "metadata": {
        "colab": {
          "base_uri": "https://localhost:8080/"
        },
        "id": "SMMgY-4eVHDa",
        "outputId": "3d7a8253-3445-4011-f9df-8a4b33f64e3b"
      },
      "outputs": [
        {
          "output_type": "stream",
          "name": "stdout",
          "text": [
            "/content\n",
            "Looking in indexes: https://pypi.org/simple, https://us-python.pkg.dev/colab-wheels/public/simple/\n",
            "Requirement already satisfied: gdown in /usr/local/lib/python3.8/dist-packages (4.4.0)\n",
            "Collecting gdown\n",
            "  Downloading gdown-4.6.0-py3-none-any.whl (14 kB)\n",
            "Requirement already satisfied: filelock in /usr/local/lib/python3.8/dist-packages (from gdown) (3.8.0)\n",
            "Requirement already satisfied: beautifulsoup4 in /usr/local/lib/python3.8/dist-packages (from gdown) (4.6.3)\n",
            "Requirement already satisfied: six in /usr/local/lib/python3.8/dist-packages (from gdown) (1.15.0)\n",
            "Requirement already satisfied: requests[socks] in /usr/local/lib/python3.8/dist-packages (from gdown) (2.28.1)\n",
            "Requirement already satisfied: tqdm in /usr/local/lib/python3.8/dist-packages (from gdown) (4.64.1)\n",
            "Requirement already satisfied: urllib3<1.27,>=1.21.1 in /usr/local/lib/python3.8/dist-packages (from requests[socks]->gdown) (1.26.13)\n",
            "Requirement already satisfied: charset-normalizer<3,>=2 in /usr/local/lib/python3.8/dist-packages (from requests[socks]->gdown) (2.1.1)\n",
            "Requirement already satisfied: idna<4,>=2.5 in /usr/local/lib/python3.8/dist-packages (from requests[socks]->gdown) (2.10)\n",
            "Requirement already satisfied: certifi>=2017.4.17 in /usr/local/lib/python3.8/dist-packages (from requests[socks]->gdown) (2022.9.24)\n",
            "Requirement already satisfied: PySocks!=1.5.7,>=1.5.6 in /usr/local/lib/python3.8/dist-packages (from requests[socks]->gdown) (1.7.1)\n",
            "Installing collected packages: gdown\n",
            "  Attempting uninstall: gdown\n",
            "    Found existing installation: gdown 4.4.0\n",
            "    Uninstalling gdown-4.4.0:\n",
            "      Successfully uninstalled gdown-4.4.0\n",
            "Successfully installed gdown-4.6.0\n",
            "Downloading...\n",
            "From: https://drive.google.com/uc?id=10xqEKqtA04JSKU2rF0XZQP9X34ovtgoY&confirm=t\n",
            "To: /content/yelp_dataset.tar\n",
            "100% 4.34G/4.34G [00:35<00:00, 121MB/s]\n"
          ]
        }
      ],
      "source": [
        "%cd /content\n",
        "!pip install --upgrade --no-cache-dir gdown\n",
        "!python -m gdown.cli \"https://drive.google.com/uc?id=10xqEKqtA04JSKU2rF0XZQP9X34ovtgoY&confirm=t\""
      ]
    },
    {
      "cell_type": "code",
      "execution_count": null,
      "metadata": {
        "id": "cbTuL0SKUH32"
      },
      "outputs": [],
      "source": [
        "# or\n",
        "#gdown PTkzqSj9IV1H64h7A6L9sQDvCTbVhEz"
      ]
    },
    {
      "cell_type": "code",
      "execution_count": null,
      "metadata": {
        "id": "U_TJVj9mJRLD"
      },
      "outputs": [],
      "source": [
        "import os\n",
        "from pyspark.sql import SparkSession\n",
        "from pyspark.sql.functions import *\n",
        "from pyspark.sql.types import *\n",
        "from pyspark.ml.evaluation import RegressionEvaluator\n",
        "from pyspark.ml.recommendation import ALS\n",
        "from pyspark.ml.recommendation import ALSModel\n",
        "from pyspark.sql import Row\n",
        "import numpy as np\n",
        "from datetime import datetime\n",
        "import tarfile\n",
        "import matplotlib.pyplot as plt\n",
        "import pandas as pd\n",
        "from pyspark.sql import Window\n",
        "from pyspark.sql.window import *"
      ]
    },
    {
      "cell_type": "code",
      "execution_count": null,
      "metadata": {
        "colab": {
          "base_uri": "https://localhost:8080/"
        },
        "id": "DjrBqmH3MgIO",
        "outputId": "eaea0a24-cd9a-46f5-e31a-62b508490f9e"
      },
      "outputs": [
        {
          "output_type": "stream",
          "name": "stdout",
          "text": [
            "/content\n"
          ]
        }
      ],
      "source": [
        "%cd /content\n",
        "# !mkdir yelp_dataset\n",
        "my_tar = tarfile.open('/content/yelp_dataset.tar')\n",
        "my_tar.extract('yelp_academic_dataset_review.json',\".\")\n",
        "my_tar.close()\n",
        "!rm /content/yelp_dataset.tar"
      ]
    },
    {
      "cell_type": "code",
      "execution_count": null,
      "metadata": {
        "id": "f3bCcHjNKkQi"
      },
      "outputs": [],
      "source": [
        "spark = SparkSession.builder\\\n",
        "        .master(\"local\")\\\n",
        "        .appName(\"Colab\")\\\n",
        "        .config('spark.ui.port', '5000')\\\n",
        "        .getOrCreate()"
      ]
    },
    {
      "cell_type": "code",
      "execution_count": null,
      "metadata": {
        "colab": {
          "base_uri": "https://localhost:8080/"
        },
        "id": "Hn3bHtPlMnNv",
        "outputId": "357c77e3-9226-48f5-9b22-cda5d2ca816d"
      },
      "outputs": [
        {
          "output_type": "stream",
          "name": "stdout",
          "text": [
            "root\n",
            " |-- business_id: string (nullable = true)\n",
            " |-- cool: long (nullable = true)\n",
            " |-- date: string (nullable = true)\n",
            " |-- funny: long (nullable = true)\n",
            " |-- review_id: string (nullable = true)\n",
            " |-- stars: double (nullable = true)\n",
            " |-- text: string (nullable = true)\n",
            " |-- useful: long (nullable = true)\n",
            " |-- user_id: string (nullable = true)\n",
            "\n",
            "+--------------------+----+-------------------+-----+--------------------+-----+--------------------+------+--------------------+\n",
            "|         business_id|cool|               date|funny|           review_id|stars|                text|useful|             user_id|\n",
            "+--------------------+----+-------------------+-----+--------------------+-----+--------------------+------+--------------------+\n",
            "|XQfwVwDr-v0ZS3_Cb...|   0|2018-07-07 22:09:11|    0|KU_O5udG6zpxOg-Vc...|  3.0|If you decide to ...|     0|mh_-eMZ6K5RLWhZyI...|\n",
            "|7ATYjTIgM3jUlt4UM...|   1|2012-01-03 15:28:18|    0|BiTunyQ73aT9WBnpR...|  5.0|I've taken a lot ...|     1|OyoGAe7OKpv6SyGZT...|\n",
            "|YjUWPpI6HXG530lwP...|   0|2014-02-05 20:30:30|    0|saUsX_uimxRlCVr67...|  3.0|Family diner. Had...|     0|8g_iMtfSiwikVnbP2...|\n",
            "|kxX2SOes4o-D3ZQBk...|   1|2015-01-04 00:01:03|    0|AqPFMleE6RsU23_au...|  5.0|Wow!  Yummy, diff...|     1|_7bHUi9Uuf5__HHc_...|\n",
            "|e4Vwtrqf-wpJfwesg...|   1|2017-01-14 20:54:15|    0|Sx8TMOWLNuJBWer-0...|  4.0|Cute interior and...|     1|bcjbaE6dDog4jkNY9...|\n",
            "+--------------------+----+-------------------+-----+--------------------+-----+--------------------+------+--------------------+\n",
            "only showing top 5 rows\n",
            "\n"
          ]
        }
      ],
      "source": [
        "df = spark.read.json(\"/content/yelp_academic_dataset_review.json\")\n",
        "df.printSchema()\n",
        "df.show(5)"
      ]
    },
    {
      "cell_type": "code",
      "execution_count": null,
      "metadata": {
        "id": "ydj35SW5Njtg"
      },
      "outputs": [],
      "source": [
        "ratings=df.select(\"user_id\",\"business_id\",\"stars\",\"date\",\"cool\",\"funny\",\"useful\")"
      ]
    },
    {
      "cell_type": "code",
      "execution_count": null,
      "metadata": {
        "colab": {
          "base_uri": "https://localhost:8080/"
        },
        "id": "4RVVngzHlZRi",
        "outputId": "8fc9ce33-1a23-4f19-de12-0d2c646ce5cb"
      },
      "outputs": [
        {
          "output_type": "stream",
          "name": "stdout",
          "text": [
            "+--------------------+-----+------+\n",
            "|             user_id|count|userid|\n",
            "+--------------------+-----+------+\n",
            "|---1lKK3aKOuomHnw...|    1|     1|\n",
            "|---2PmXbF47D870st...|   28|     2|\n",
            "|---UgP94gokyCDuB5...|   11|     3|\n",
            "|---fa6ZK37T9NjkGK...|    1|     4|\n",
            "|---r61b7EpVPkb4UV...|    5|     5|\n",
            "+--------------------+-----+------+\n",
            "only showing top 5 rows\n",
            "\n"
          ]
        }
      ],
      "source": [
        "userRatings=ratings.groupBy(\"user_id\").count()\n",
        "## take id type int\n",
        "window = Window.orderBy(col('user_id'))\n",
        "userRatings = userRatings.withColumn('userid', row_number().over(window))\n",
        "\n",
        "##Because ALS in spark require users or items is  in int type, we must process it\n",
        "\n",
        "## if you use this, for the large data, it processes wrong\n",
        "# userRatings=ratings.groupBy(\"user_id\").count().withColumn(\"userid\", monotonically_increasing_id().cast(IntegerType()))\n",
        "userRatings.show(5)"
      ]
    },
    {
      "cell_type": "code",
      "execution_count": null,
      "metadata": {
        "id": "GEZfH8W3lcfa"
      },
      "outputs": [],
      "source": [
        "buiRatings=ratings.groupBy(\"business_id\").count()\n",
        "## take id type int\n",
        "window = Window.orderBy(col('business_id'))\n",
        "buiRatings = buiRatings.withColumn('businessid', row_number().over(window))\n",
        "\n",
        "# buiRatings=ratings.groupBy(\"business_id\").count().withColumn(\"businessid\", monotonically_increasing_id().cast(IntegerType()))\n",
        "newratings=ratings.join(userRatings, ['user_id'])\n",
        "newratings=newratings.join(buiRatings, ['business_id'])\n",
        "newratings=newratings.select(\"userid\",\"businessid\",\"stars\",\"date\",\"cool\",\"funny\",\"useful\")"
      ]
    },
    {
      "cell_type": "code",
      "execution_count": null,
      "metadata": {
        "colab": {
          "base_uri": "https://localhost:8080/"
        },
        "id": "WmQjiNM5lfOP",
        "outputId": "61e73919-7ce5-4d72-c341-20e8981d9ad3"
      },
      "outputs": [
        {
          "name": "stdout",
          "output_type": "stream",
          "text": [
            "num user: 1987929\n",
            "num buisiness: 150346\n",
            "+------+----------+-----+-------------------+----+-----+------+\n",
            "|userid|businessid|stars|               date|cool|funny|useful|\n",
            "+------+----------+-----+-------------------+----+-----+------+\n",
            "|    20|     40541|  1.0|2015-05-03 03:53:01|   1|    0|     3|\n",
            "|    20|     76452|  5.0|2015-05-21 03:18:49|   0|    0|     0|\n",
            "|    36|    105552|  5.0|2019-04-18 05:17:58|   0|    0|     0|\n",
            "|    36|     29020|  2.0|2017-02-03 06:14:50|   0|    0|     1|\n",
            "|    36|    107435|  5.0|2019-04-18 05:15:48|   1|    1|     1|\n",
            "+------+----------+-----+-------------------+----+-----+------+\n",
            "only showing top 5 rows\n",
            "\n",
            "dataframe: DataFrame[userid: int, businessid: int, stars: double, date: string, cool: bigint, funny: bigint, useful: bigint]\n"
          ]
        }
      ],
      "source": [
        "print(f\"num user: {userRatings.count()}\")\n",
        "print(f\"num buisiness: {buiRatings.count()}\")\n",
        "newratings.show(5)\n",
        "print(f\"dataframe: {newratings}\")"
      ]
    },
    {
      "cell_type": "code",
      "execution_count": null,
      "metadata": {
        "colab": {
          "base_uri": "https://localhost:8080/"
        },
        "id": "EtSz71yIkTUn",
        "outputId": "ac303476-f410-42f4-9517-9cca30fc6007"
      },
      "outputs": [
        {
          "output_type": "stream",
          "name": "stdout",
          "text": [
            "DataFrame[userid: int, businessid: int, stars: int, date: timestamp, cool: int, funny: int, useful: int]\n",
            "+------+----------+-----+-------------------+----+-----+------+\n",
            "|userid|businessid|stars|               date|cool|funny|useful|\n",
            "+------+----------+-----+-------------------+----+-----+------+\n",
            "|    20|     40541|    1|2015-05-03 03:53:01|   1|    0|     3|\n",
            "|    20|     76452|    5|2015-05-21 03:18:49|   0|    0|     0|\n",
            "|    36|    105552|    5|2019-04-18 05:17:58|   0|    0|     0|\n",
            "|    36|     29020|    2|2017-02-03 06:14:50|   0|    0|     1|\n",
            "|    36|    107435|    5|2019-04-18 05:15:48|   1|    1|     1|\n",
            "+------+----------+-----+-------------------+----+-----+------+\n",
            "only showing top 5 rows\n",
            "\n"
          ]
        }
      ],
      "source": [
        "newratings=newratings.withColumn(\"stars\",col(\"stars\").cast(IntegerType()))\n",
        "newratings=newratings.withColumn(\"date\",to_timestamp(\"date\"))\n",
        "newratings=newratings.withColumn(\"cool\",col(\"cool\").cast(IntegerType()))\n",
        "newratings=newratings.withColumn(\"funny\",col(\"funny\").cast(IntegerType()))\n",
        "newratings=newratings.withColumn(\"useful\",col(\"useful\").cast(IntegerType()))\n",
        "\n",
        "print(newratings)\n",
        "newratings.show(5)"
      ]
    },
    {
      "cell_type": "code",
      "execution_count": null,
      "metadata": {
        "colab": {
          "base_uri": "https://localhost:8080/",
          "height": 392
        },
        "id": "565htWlqqfGM",
        "outputId": "aa1772a5-098c-41e4-ab75-00ec129e161f"
      },
      "outputs": [
        {
          "output_type": "display_data",
          "data": {
            "text/plain": [
              "<Figure size 432x288 with 1 Axes>"
            ],
            "image/png": "[encoded data removed]"
          },
          "metadata": {
            "needs_background": "light"
          }
        }
      ],
      "source": [
        "gre_histogram = newratings.select('stars').rdd.flatMap(lambda x: x).histogram(11)\n",
        "\n",
        "pd.DataFrame(\n",
        "    list(zip(*gre_histogram)), \n",
        "    columns=['bin', 'frequency']\n",
        ").set_index(\n",
        "    'bin'\n",
        ").plot(kind='bar');"
      ]
    },
    {
      "cell_type": "code",
      "execution_count": null,
      "metadata": {
        "colab": {
          "base_uri": "https://localhost:8080/",
          "height": 52
        },
        "id": "1Z_vWsncgzRE",
        "outputId": "96639325-3dab-40b3-ed55-2ef3446f1b7f"
      },
      "outputs": [
        {
          "data": {
            "text/plain": [
              "DataFrame[userid: int, businessid: int, stars: int, date: timestamp, cool: int, funny: int, useful: int, year: int]"
            ]
          },
          "metadata": {},
          "output_type": "display_data"
        }
      ],
      "source": [
        "df1 = newratings.withColumn('year',year(newratings.date))\n",
        "df1 = newratings.withColumn('year',year(newratings.date))\n",
        "display(df1)"
      ]
    },
    {
      "cell_type": "markdown",
      "source": [
        "## Split data"
      ],
      "metadata": {
        "id": "fDs1D3Ma-wSs"
      }
    },
    {
      "cell_type": "code",
      "source": [
        "num=int(newratings.count()*0.1)\n",
        "ortherDate=newratings.orderBy(col(\"date\").desc())\n",
        "testing=ortherDate.limit(int(num))\n",
        "train=ortherDate.subtract(testing)\n",
        "\n",
        "validate=train.limit(int(num)*2)\n",
        "training=train.subtract(validate)\n",
        "\n",
        "print(f\"training: {training.count()}\")\n",
        "print(f\"validate: {validate.count()}\")\n",
        "print(f\"testing: {testing.count()}\")"
      ],
      "metadata": {
        "colab": {
          "base_uri": "https://localhost:8080/"
        },
        "id": "00FEDtKQ-w6z",
        "outputId": "67a58233-f3fe-4f81-a999-1324d4c3346f"
      },
      "execution_count": null,
      "outputs": [
        {
          "output_type": "stream",
          "name": "stdout",
          "text": [
            "training: 4893182\n",
            "validate: 1398056\n",
            "testing: 699028\n"
          ]
        }
      ]
    },
    {
      "cell_type": "markdown",
      "metadata": {
        "id": "lkAQT7btYCj-"
      },
      "source": [
        "## Because there is some problem if you collect by date  while the items don't have any rating, so it can be difficult to predict"
      ]
    },
    {
      "cell_type": "code",
      "execution_count": null,
      "metadata": {
        "id": "sK2UpWi7YRo3"
      },
      "outputs": [],
      "source": [
        "def divideData(data,ratio,numRow):\n",
        "    num=int(numRow*2*ratio)\n",
        "    ortherDate=data.orderBy(col(\"date\").desc())\n",
        "    testing=ortherDate.limit(int(num))\n",
        "    (_, testing) = testing.randomSplit([0.5, 0.5])\n",
        "    training = data.subtract(testing)\n",
        "    return training,testing\n",
        "\n",
        "def splitData(newratings,ratioVal,ratioTest):\n",
        "    numRow=newratings.count()\n",
        "    train,testing = divideData(newratings,ratioTest,numRow)\n",
        "    training,validating = divideData(train,ratioVal,numRow)\n",
        "    return training,validating,testing"
      ]
    },
    {
      "cell_type": "code",
      "execution_count": null,
      "metadata": {
        "colab": {
          "base_uri": "https://localhost:8080/"
        },
        "id": "PhaZOqAhvEH8",
        "outputId": "7dc805fd-874e-46d0-fe93-0a3638f19033"
      },
      "outputs": [
        {
          "name": "stdout",
          "output_type": "stream",
          "text": [
            "num training: 4891272\n",
            "num validating: 1399214\n",
            "num testing: 699779\n",
            "+------+----------+-----+-------------------+----+-----+------+\n",
            "|userid|businessid|stars|               date|cool|funny|useful|\n",
            "+------+----------+-----+-------------------+----+-----+------+\n",
            "|     3|     52915|    1|2020-05-12 01:45:33|   1|    0|     0|\n",
            "|     3|     69507|    4|2021-09-17 17:36:13|   1|    0|     1|\n",
            "|     3|    106341|    5|2020-10-07 16:14:15|   0|    0|     2|\n",
            "|    10|     91657|    5|2021-04-19 14:33:52|   0|    0|     0|\n",
            "|    24|     99643|    5|2020-05-24 19:33:09|   0|    0|     0|\n",
            "+------+----------+-----+-------------------+----+-----+------+\n",
            "only showing top 5 rows\n",
            "\n"
          ]
        }
      ],
      "source": [
        "training,validating,testing=splitData(newratings,0.2,0.1)\n",
        "print(f\"num training: {training.count()}\")\n",
        "print(f\"num validating: {validating.count()}\")\n",
        "print(f\"num testing: {testing.count()}\")\n",
        "testing.show(5)"
      ]
    },
    {
      "cell_type": "markdown",
      "source": [],
      "metadata": {
        "id": "egpKSM6w-MM1"
      }
    },
    {
      "cell_type": "markdown",
      "metadata": {
        "id": "JWfoom3IvIDC"
      },
      "source": [
        "# Choose param"
      ]
    },
    {
      "cell_type": "code",
      "execution_count": null,
      "metadata": {
        "colab": {
          "background_save": true,
          "base_uri": "https://localhost:8080/"
        },
        "id": "e3DtnZCiKx1R",
        "outputId": "a7e3e077-a902-479e-eeb0-28b410a0e2c6"
      },
      "outputs": [
        {
          "name": "stdout",
          "output_type": "stream",
          "text": [
            "rank: 25,iter: 5,reg: 0.09 : RMSE=1.6038069896506904\n"
          ]
        }
      ],
      "source": [
        "rank=25\n",
        "reg=0.09\n",
        "iter=5\n",
        "als= ALS(rank=rank, maxIter=iter, regParam=reg, userCol=\"businessid\", itemCol=\"userid\", ratingCol=\"stars\", nonnegative=True,implicitPrefs = False,coldStartStrategy=\"drop\")\n",
        "model = als.fit(training) \n",
        "predictions=model.transform(validating)\n",
        "evaluator = RegressionEvaluator(metricName=\"rmse\", labelCol=\"stars\", predictionCol=\"prediction\")\n",
        "rmse = evaluator.evaluate(predictions)  \n",
        "print(f\"rank: {rank},iter: {iter},reg: {reg} : RMSE={rmse}\")\n",
        "f = open('/content/drive/MyDrive/TLCN-19133035-19133018/score.txt','a')\n",
        "f.write(f'\\n{rank},{iter},{reg},{rmse}')\n",
        "f.close()"
      ]
    },
    {
      "cell_type": "code",
      "execution_count": null,
      "metadata": {
        "colab": {
          "background_save": true
        },
        "id": "b2uL-SOsmL2E",
        "outputId": "720a7232-79e4-4061-b906-73ec68b4b71b"
      },
      "outputs": [
        {
          "name": "stdout",
          "output_type": "stream",
          "text": [
            "rank: 5,iter: 3,reg: 0.9 : RMSE=1.6271337657801292\n",
            "rank: 5,iter: 5,reg: 0.9 : RMSE=1.6125856824966942\n",
            "rank: 5,iter: 7,reg: 0.9 : RMSE=1.6087505923848164\n",
            "rank: 5,iter: 9,reg: 0.9 : RMSE=1.6072348040049016\n",
            "rank: 5,iter: 11,reg: 0.9 : RMSE=1.606568679510409\n",
            "rank: 5,iter: 13,reg: 0.9 : RMSE=1.606247424865696\n"
          ]
        }
      ],
      "source": [
        "from pyspark.sql.types import StructType,StructField, StringType\n",
        "import numpy as np\n",
        "\n",
        "def tuning(rank,iter,reg):\n",
        "  als= ALS(rank=rank, maxIter=iter, regParam=reg, userCol=\"businessid\", itemCol=\"userid\", ratingCol=\"stars\", nonnegative=True,implicitPrefs = False,coldStartStrategy=\"drop\")\n",
        "  model = als.fit(training) \n",
        "  predictions=model.transform(validating)\n",
        "  evaluator = RegressionEvaluator(metricName=\"rmse\", labelCol=\"stars\", predictionCol=\"prediction\")\n",
        "  rmse = evaluator.evaluate(predictions)  \n",
        "  print(f\"rank: {rank},iter: {iter},reg: {reg} : RMSE={rmse}\")\n",
        "  return rmse\n",
        "\n",
        "ran=[0.2,0.7,0.9]\n",
        "\n",
        "for reg in ran:\n",
        "    for rank in range(11, 17, 2):\n",
        "        for iter in range(11, 17, 2):\n",
        "              rmse=tuning(rank,iter,reg)\n",
        "              f = open('/content/drive/MyDrive/TLCN-19133035-19133018/score.txt','a')\n",
        "              f.write(f'\\n{rank},{iter},{reg},{rmse}')\n",
        "              f.close()"
      ]
    },
    {
      "cell_type": "code",
      "execution_count": null,
      "metadata": {
        "id": "_8CYoSWq0Wmb"
      },
      "outputs": [],
      "source": [
        "alsExplicit = ALS()\n",
        "\n",
        "paramMapExplicit = ParamGridBuilder() \\\n",
        "                    .addGrid(alsExplicit.rank, [8, 12]) \\\n",
        "                    .addGrid(alsExplicit.maxIter, [10, 15]) \\\n",
        "                    .addGrid(alsExplicit.regParam, [1.0, 10.0]) \\\n",
        "                    .build()\n",
        "evaluatorR = RegressionEvaluator(metricName=\"rmse\", labelCol=\"rating\")\n",
        "\n",
        "cvExplicit = CrossValidator(estimator=alsExplicit, estimatorParamMaps=paramMapExplicit, evaluator=evaluatorR)\n",
        "cvModelExplicit = cvExplicit.fit(dfRatings)\n",
        "predsExplicit = cvModelExplicit.bestModel.transform(dfRatingsTest)\n"
      ]
    },
    {
      "cell_type": "markdown",
      "metadata": {
        "id": "f9yYbPn2DhF2"
      },
      "source": [
        "# Normal"
      ]
    },
    {
      "cell_type": "code",
      "execution_count": null,
      "metadata": {
        "id": "y5VuduXCNWDu"
      },
      "outputs": [],
      "source": [
        "# from multiprocessing.pool import ThreadPool as Pool\n",
        "# from datetime import datetime\n",
        "\n",
        "# def worker(i):\n",
        "#   start=datetime.now()\n",
        "#   print(f\"processing time: {datetime.now()}\")\n",
        "#   als= ALS(rank=5, maxIter=5, regParam=0.15, userCol=\"userid\", itemCol=\"businessid\", ratingCol=\"stars\", nonnegative=True,implicitPrefs = False,coldStartStrategy=\"drop\")\n",
        "#   model = als.fit(training)\n",
        "#   print(f\"processing time: {datetime.now()}\")\n",
        "#   predictions=model.transform(validate)\n",
        "#   print(f\"processing time: {datetime.now()}\")\n",
        "#   evaluator = RegressionEvaluator(metricName=\"rmse\", labelCol=\"stars\", predictionCol=\"prediction\")\n",
        "#   rmse = evaluator.evaluate(predictions)\n",
        "#   print(f\"time {i} RMSE={rmse}\")\n",
        "#   end=datetime.now()\n",
        "#   print(f\"processing time: {end-start}\")\n",
        "    \n",
        "# # pool = Pool(2)\n",
        "# item=5\n",
        "# worker(item)"
      ]
    },
    {
      "cell_type": "code",
      "source": [
        "als= ALS(rank=4, maxIter=4, regParam=0.35, userCol=\"userid\", itemCol=\"businessid\", ratingCol=\"stars\", nonnegative=True,implicitPrefs = False,coldStartStrategy=\"drop\")\n",
        "model = als.fit(training)\n",
        "predictions=model.transform(training)\n",
        "evaluator = RegressionEvaluator(metricName=\"rmse\", labelCol=\"stars\", predictionCol=\"prediction\")\n",
        "rmse = evaluator.evaluate(predictions)\n",
        "print(f\"training RMSE={rmse}\")\n",
        "\n",
        "predictions=model.transform(validate)\n",
        "evaluator = RegressionEvaluator(metricName=\"rmse\", labelCol=\"stars\", predictionCol=\"prediction\")\n",
        "rmse = evaluator.evaluate(predictions)\n",
        "print(f\"validate RMSE={rmse}\")"
      ],
      "metadata": {
        "colab": {
          "base_uri": "https://localhost:8080/"
        },
        "id": "wgeWdyN3Aofp",
        "outputId": "f5bee79f-4ad5-4939-ffc0-9387da534ff5"
      },
      "execution_count": null,
      "outputs": [
        {
          "output_type": "stream",
          "name": "stdout",
          "text": [
            "training RMSE=0.9405448523205645\n",
            "validate RMSE=1.1839087988996344\n"
          ]
        }
      ]
    },
    {
      "cell_type": "code",
      "source": [
        "predictions=model.transform(testing)\n",
        "rmse = evaluator.evaluate(predictions)\n",
        "print(f\"validate RMSE={rmse}\")"
      ],
      "metadata": {
        "colab": {
          "base_uri": "https://localhost:8080/"
        },
        "id": "ATOkiQsmAuE7",
        "outputId": "aa486f00-9e24-4831-bd58-62f48c93fb17"
      },
      "execution_count": null,
      "outputs": [
        {
          "output_type": "stream",
          "name": "stdout",
          "text": [
            "validate RMSE=1.5190787034550957\n"
          ]
        }
      ]
    },
    {
      "cell_type": "markdown",
      "source": [
        "# Save model"
      ],
      "metadata": {
        "id": "9zOYY7e4JeSt"
      }
    },
    {
      "cell_type": "code",
      "source": [
        "model.save('/content/save1')"
      ],
      "metadata": {
        "id": "9xQF7BA3Jdmd"
      },
      "execution_count": null,
      "outputs": []
    },
    {
      "cell_type": "code",
      "source": [
        "%cd /content\n",
        "import shutil\n",
        "shutil.make_archive('save1', 'zip', 'save1')"
      ],
      "metadata": {
        "colab": {
          "base_uri": "https://localhost:8080/",
          "height": 53
        },
        "id": "uJXVRSuNMZfz",
        "outputId": "350acce4-5ec7-4e50-dcad-8d6b39b26d35"
      },
      "execution_count": null,
      "outputs": [
        {
          "output_type": "stream",
          "name": "stdout",
          "text": [
            "/content\n"
          ]
        },
        {
          "output_type": "execute_result",
          "data": {
            "text/plain": [
              "'/content/save1.zip'"
            ],
            "application/vnd.google.colaboratory.intrinsic+json": {
              "type": "string"
            }
          },
          "metadata": {},
          "execution_count": 16
        }
      ]
    },
    {
      "cell_type": "code",
      "source": [
        "shutil.copy('/content/save1.zip','/content/drive/MyDrive/TLCN-19133035-19133018/MLS')"
      ],
      "metadata": {
        "colab": {
          "base_uri": "https://localhost:8080/",
          "height": 36
        },
        "id": "MbbLf4NuMk2z",
        "outputId": "983e87a1-5952-47cc-e594-af1f04d5be3f"
      },
      "execution_count": null,
      "outputs": [
        {
          "output_type": "execute_result",
          "data": {
            "text/plain": [
              "'/content/drive/MyDrive/TLCN-19133035-19133018/MLS/save1.zip'"
            ],
            "application/vnd.google.colaboratory.intrinsic+json": {
              "type": "string"
            }
          },
          "metadata": {},
          "execution_count": 17
        }
      ]
    },
    {
      "cell_type": "markdown",
      "source": [
        "# Load save model"
      ],
      "metadata": {
        "id": "ElBOQJYrT7yC"
      }
    },
    {
      "cell_type": "code",
      "source": [
        "!gdown 18e1h76domGD_WVnl4vF6OaUyUXVGxqeC\n",
        "shutil.unpack_archive('/content/save1.zip',\"save1\")"
      ],
      "metadata": {
        "colab": {
          "base_uri": "https://localhost:8080/"
        },
        "id": "2Sr-5yiAT4JZ",
        "outputId": "ba21aa1b-ae1a-49c3-88a0-6d6f56bbebcf"
      },
      "execution_count": null,
      "outputs": [
        {
          "output_type": "stream",
          "name": "stdout",
          "text": [
            "Downloading...\n",
            "From: https://drive.google.com/uc?id=18e1h76domGD_WVnl4vF6OaUyUXVGxqeC\n",
            "To: /content/save1.zip\n",
            "\r  0% 0.00/26.0M [00:00<?, ?B/s]\r 44% 11.5M/26.0M [00:00<00:00, 112MB/s]\r100% 26.0M/26.0M [00:00<00:00, 152MB/s]\n"
          ]
        }
      ]
    },
    {
      "cell_type": "code",
      "source": [
        "model=ALSModel.load(\"/content/save1\")\n",
        "\n",
        "evaluator = RegressionEvaluator(metricName=\"rmse\", labelCol=\"stars\", predictionCol=\"prediction\")\n",
        "\n",
        "predictions=model.transform(training)\n",
        "rmse = evaluator.evaluate(predictions)\n",
        "print(f\"training: rmse={rmse}\")\n",
        "\n",
        "predictions=model.transform(validate)\n",
        "rmse = evaluator.evaluate(predictions)\n",
        "print(f\"validate: rmse={rmse}\")\n",
        "\n",
        "predictions=model.transform(testing)\n",
        "rmse = evaluator.evaluate(predictions)\n",
        "print(f\"testing: rmse={rmse}\")"
      ],
      "metadata": {
        "colab": {
          "base_uri": "https://localhost:8080/"
        },
        "id": "VrohYEqeUiqs",
        "outputId": "4db06cf9-f598-4882-8905-69d4ae45eed9"
      },
      "execution_count": null,
      "outputs": [
        {
          "output_type": "stream",
          "name": "stdout",
          "text": [
            "training: rmse=0.940544852320557\n",
            "validate: rmse=1.1839087988996344\n",
            "testing: rmse=1.5190787034550957\n"
          ]
        }
      ]
    },
    {
      "cell_type": "markdown",
      "metadata": {
        "id": "71Ps6oafmY2M"
      },
      "source": [
        "# stratified sampling"
      ]
    },
    {
      "cell_type": "code",
      "execution_count": null,
      "metadata": {
        "id": "1ezssTTEmYHa"
      },
      "outputs": [],
      "source": [
        "rat1=newratings.where(col(\"stars\")==1)\n",
        "rat2=newratings.where(col(\"stars\")==2)\n",
        "rat3=newratings.where(col(\"stars\")==3)\n",
        "rat4=newratings.where(col(\"stars\")==4)\n",
        "rat5=newratings.where(col(\"stars\")==5)"
      ]
    },
    {
      "cell_type": "code",
      "execution_count": null,
      "metadata": {
        "id": "ygCe4KLy63tL"
      },
      "outputs": [],
      "source": [
        "def trainTestSPlit(newratings):\n",
        "    numtest=int(newratings.count()*0.4)\n",
        "    ortherDate=newratings.orderBy(col(\"date\").desc())\n",
        "    testing=ortherDate.limit(int(numtest))\n",
        "    (_, testing) = testing.randomSplit([0.5, 0.5])\n",
        "    training = newratings.subtract(testing)\n",
        "    return training,testing"
      ]
    },
    {
      "cell_type": "code",
      "execution_count": null,
      "metadata": {
        "id": "qj6QF1GIts0d"
      },
      "outputs": [],
      "source": [
        "train1,test1=trainTestSPlit(rat1)\n",
        "train2,test2=trainTestSPlit(rat2)\n",
        "train3,test3=trainTestSPlit(rat3)\n",
        "train4,test4=trainTestSPlit(rat4)\n",
        "train5,test5=trainTestSPlit(rat5)"
      ]
    },
    {
      "cell_type": "code",
      "execution_count": null,
      "metadata": {
        "id": "9q_MnFikz63m"
      },
      "outputs": [],
      "source": [
        "mertrain=train1.union(train2).union(train3).union(train4).union(train5)\n",
        "mertest=test1.union(test2).union(test3).union(test4).union(test5)"
      ]
    },
    {
      "cell_type": "code",
      "execution_count": null,
      "metadata": {
        "id": "3M1fT1a134-z"
      },
      "outputs": [],
      "source": [
        "from multiprocessing.pool import ThreadPool as Pool\n",
        "from datetime import datetime\n",
        "\n",
        "predictions=None\n",
        "\n",
        "def work(i,train,test):\n",
        "  start=datetime.now()\n",
        "  als= ALS(rank=i, maxIter=5, regParam=0.15, userCol=\"businessid\", itemCol=\"userid\", ratingCol=\"stars\", nonnegative=True,implicitPrefs = False,coldStartStrategy=\"drop\")\n",
        "  model = als.fit(train)\n",
        "  ski=datetime.now()-start\n",
        "  print(f\"Time fit model: {ski}\")\n",
        "  predictions=model.transform(test)\n",
        "  print(f\"Time predict: {datetime.now()-ski}\")\n",
        "  evaluator = RegressionEvaluator(metricName=\"rmse\", labelCol=\"stars\", predictionCol=\"prediction\")\n",
        "  rmse = evaluator.evaluate(predictions)\n",
        "  print(f\"time {i} RMSE={rmse}\")\n",
        "  end=datetime.now()\n",
        "  print(f\"processing time: {end-start}\")\n",
        "  return predictions\n",
        "\n",
        "i=0   \n",
        "for item in range(3,15):\n",
        "  prediction=work(item,mertrain,mertest)\n",
        "  if i==1:\n",
        "    predictions=prediction\n",
        "  i+=1\n"
      ]
    },
    {
      "cell_type": "markdown",
      "metadata": {
        "id": "C75it3clxTY9"
      },
      "source": [
        "# Cross validation"
      ]
    },
    {
      "cell_type": "code",
      "execution_count": null,
      "metadata": {
        "colab": {
          "base_uri": "https://localhost:8080/"
        },
        "id": "IuRpHVom8HvT",
        "outputId": "1d533707-8f5d-45af-be11-89d87e13bcf4"
      },
      "outputs": [
        {
          "name": "stdout",
          "output_type": "stream",
          "text": [
            "Load complete als model\n",
            "ALS_6581ec885334\n",
            "[{Param(parent='ALS_6581ec885334', name='regParam', doc='regularization parameter (>= 0).'): 0.01}, {Param(parent='ALS_6581ec885334', name='regParam', doc='regularization parameter (>= 0).'): 0.05}, {Param(parent='ALS_6581ec885334', name='regParam', doc='regularization parameter (>= 0).'): 0.1}, {Param(parent='ALS_6581ec885334', name='regParam', doc='regularization parameter (>= 0).'): 0.15}]\n",
            "That's params\n",
            "Load cross validation CrossValidator_37a77c99dc94\n"
          ]
        }
      ],
      "source": [
        "# Cross validation\n",
        "from pyspark.ml.tuning import CrossValidator, ParamGridBuilder, CrossValidatorModel\n",
        "\n",
        "als= ALS(rank=5, maxIter=5, regParam=0.15, userCol=\"userid\", itemCol=\"businessid\", ratingCol=\"stars\", nonnegative=True,implicitPrefs = False,coldStartStrategy=\"drop\")\n",
        "print(\"Load complete als model\")\n",
        "print(als)\n",
        "evaluator = RegressionEvaluator(metricName=\"rmse\", labelCol=\"stars\", predictionCol=\"prediction\")\n",
        "params = ParamGridBuilder().addGrid(als.regParam,[.01, .05, .1, .15]).build()\n",
        "print(params)\n",
        "print(\"That's params\")\n",
        "cv = CrossValidator(estimator=als, estimatorParamMaps=params, evaluator=evaluator, parallelism=4, numFolds= 5)\n",
        "print(f\"Load cross validation {cv}\")\n",
        "best_model = cv.fit(newratings)\n",
        "model = best_model.bestModel\n",
        "print(model)"
      ]
    },
    {
      "cell_type": "code",
      "execution_count": null,
      "metadata": {
        "id": "mzcC5_tZCFyk"
      },
      "outputs": [],
      "source": [
        "predictions=model.transform(testing)\n",
        "evaluator = RegressionEvaluator(metricName=\"rmse\", labelCol=\"stars\", predictionCol=\"prediction\")\n",
        "rmse = evaluator.evaluate(predictions)\n",
        "print(f\"RMSE={rmse}\")"
      ]
    },
    {
      "cell_type": "markdown",
      "metadata": {
        "id": "Mzg6vGuB8b8r"
      },
      "source": [
        "# Recommendation Show"
      ]
    },
    {
      "cell_type": "code",
      "execution_count": null,
      "metadata": {
        "id": "Wd92xIcj8gK7"
      },
      "outputs": [],
      "source": [
        "rcm = model.recommendForAllUsers(10)\n",
        "rcm.show(10)"
      ]
    },
    {
      "cell_type": "code",
      "execution_count": null,
      "metadata": {
        "id": "A-TCFv_98qXn"
      },
      "outputs": [],
      "source": [
        "recommendations = rcm.withColumn(\"rec_exp\", explode(\"recommendations\"))\\\n",
        "    .select('userId', col(\"newratings.businessid\"), col(\"newratings.stars\"))\n",
        "recommendations.limit(10).show()"
      ]
    }
  ],
  "metadata": {
    "accelerator": "GPU",
    "colab": {
      "collapsed_sections": [
        "lkAQT7btYCj-",
        "JWfoom3IvIDC",
        "C75it3clxTY9"
      ],
      "provenance": [],
      "include_colab_link": true
    },
    "gpuClass": "standard",
    "kernelspec": {
      "display_name": "Python 3",
      "name": "python3"
    },
    "language_info": {
      "name": "python"
    }
  },
  "nbformat": 4,
  "nbformat_minor": 0
}